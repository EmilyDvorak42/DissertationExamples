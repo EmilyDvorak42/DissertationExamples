{
 "cells": [
  {
   "cell_type": "code",
   "execution_count": 4,
   "metadata": {},
   "outputs": [],
   "source": [
    "# Rename me from MachineLearningOG_A to iPythonExample_OG_stepB\n",
    "workarea = \"/Users/dork/Home/GithubRepo/\"\n",
    "file_storage = workarea+\"Files/\""
   ]
  },
  {
   "cell_type": "code",
   "execution_count": 5,
   "metadata": {},
   "outputs": [],
   "source": [
    "import numpy as np\n",
    "import matplotlib\n",
    "import matplotlib.pyplot as plt\n",
    "from matplotlib.colors import LogNorm\n",
    "\n",
    "import pandas as pd\n",
    "from sklearn.ensemble import ExtraTreesRegressor, RandomForestRegressor\n",
    "from sklearn.multioutput import MultiOutputRegressor,MultiOutputClassifier\n",
    "from sklearn.model_selection import train_test_split\n",
    "import joblib\n",
    "from sklearn.preprocessing import StandardScaler\n",
    "\n",
    "from sklearn.metrics import r2_score\n",
    "from scipy.stats import pearsonr\n",
    "\n",
    "from sklearn import datasets\n",
    "from sklearn.model_selection  import GridSearchCV\n",
    "\n",
    "import tables\n",
    "import pylab as pl\n",
    "\n",
    "import math\n",
    "\n",
    "import pickle\n",
    "\n",
    "import EmilysTools\n",
    "from EmilysTools import Grabber, DataGrabber, llh_check, PassedG1Cuts, PassedDataG1Cuts"
   ]
  },
  {
   "cell_type": "code",
   "execution_count": 6,
   "metadata": {},
   "outputs": [],
   "source": [
    "matplotlib.rc('font', size=24)\n",
    "combo_number = 1\n",
    "num_tree = 500\n",
    "test_size = 0.33\n",
    "mx_depth = 1000\n",
    "crit = 'mse'\n",
    "boot = True\n",
    "rdm_st = 42\n",
    "oob = True\n",
    "num_trees = [50,100,500,1000,1500,2000,2500,3000,3500]\n",
    "\n",
    "mass = [1,56]\n",
    "primary_label=['H','Fe']\n",
    "color =['r','b']\n",
    " \n",
    "feat_names = ['s125','zenith','e_loss','n_he_stoc','n_he_stoc_hi']\n",
    "#feat_names = ['s125','zenith','e_loss']\n",
    "\n",
    "cl_names = ['Ene']\n",
    "#cl_names = ['Ene','Mas']\n",
    "\n",
    "Nbins = 30\n",
    "eng_bins = np.logspace(5.0,9.5,Nbins)"
   ]
  },
  {
   "cell_type": "code",
   "execution_count": 65,
   "metadata": {},
   "outputs": [],
   "source": [
    "sim_type = \"stepA_OGall\"\n",
    "my_itP_og = pickle.load( open( file_storage+sim_type+\"_ic86_goodA_p_le.pkl\", \"rb\" ) )\n",
    "my_itF_og = pickle.load( open( file_storage+sim_type+\"_ic86_goodA_i_le.pkl\", \"rb\" ) )"
   ]
  },
  {
   "cell_type": "code",
   "execution_count": 10,
   "metadata": {},
   "outputs": [
    {
     "name": "stdout",
     "output_type": "stream",
     "text": [
      "good_ElossReco_IT_mpeLLH_itSEEDMilliNCascAbove2\n",
      "good_ElossReco_IT_mpeLLH_itSEEDMilliQtotRatio\n",
      "good_ElossReco_IT_mpeLLH_itSEEDMilliRloglBelow2\n",
      "good_ElossReco_IT_mpeLLH_itSEEDStochRecoSucceeded\n",
      "good_ElossReco_II_speLLH_mpeSEEDMilliNCascAbove2\n",
      "good_ElossReco_II_speLLH_mpeSEEDMilliQtotRatio\n",
      "good_ElossReco_II_speLLH_mpeSEEDMilliRloglBelow2\n",
      "good_ElossReco_II_speLLH_mpeSEEDStochRecoSucceeded\n",
      "BetaCutPassed\n",
      "IceTopMaxSignalAbove6\n",
      "IceTopMaxSignalInside\n",
      "IceTopNeighbourMaxSignalAbove4\n",
      "IceTop_StandardFilter\n",
      "IceTop_reco_succeeded\n",
      "Laputop_FractionContainment\n",
      "StationDensity_passed\n",
      "MilliNCascAbove2\n",
      "MilliQtotRatio\n",
      "MilliRloglBelow2\n",
      "NCh_CoincLaputopCleanedPulsesAbove7\n",
      "StochRecoSucceeded\n",
      "IT_mpeLLH_itSEED_x\n",
      "IT_mpeLLH_itSEED_y\n",
      "IT_mpeLLH_itSEED_z\n",
      "IT_mpeLLH_itSEED_time\n",
      "IT_mpeLLH_itSEED_zenith\n",
      "IT_mpeLLH_itSEED_azimuth\n",
      "IT_mpeLLH_itSEED_energy\n",
      "IT_mpeLLH_itSEED_speed\n",
      "IT_mpeLLH_itSEED_length\n",
      "IT_mpeLLH_itSEED_pdg_encoding\n",
      "IT_mpeLLH_itSEED_type\n",
      "IT_mpeLLH_itSEED_shape\n",
      "IT_mpeLLH_itSEED_location\n",
      "IT_mpeLLH_itSEED_fit_status\n",
      "IT_mpeLLH_itSEEDParams_Log10_S125\n",
      "IT_mpeLLH_itSEEDParams_Beta\n",
      "IT_mpeLLH_itSEEDParams_RhoMu\n",
      "IT_mpeLLH_itSEEDParams_Chi2_ldf\n",
      "IT_mpeLLH_itSEEDParams_ndof_ldf\n",
      "IT_mpeLLH_itSEEDParams_r_ref\n",
      "IT_mpeLLH_itSEEDParams_Moliere\n",
      "IT_mpeLLH_itSEEDParams_r_mu_ref\n",
      "IT_mpeLLH_itSEEDParams_llh_ldf\n",
      "IT_mpeLLH_itSEEDParams_LDFtype\n",
      "IT_mpeLLH_itSEEDParams_gamma\n",
      "IT_mpeLLH_itSEEDParams_omega\n",
      "IT_mpeLLH_itSEEDParams_Amp\n",
      "IT_mpeLLH_itSEEDParams_Chi2_time\n",
      "IT_mpeLLH_itSEEDParams_ndof_time\n",
      "IT_mpeLLH_itSEEDParams_llh_time\n",
      "IT_mpeLLH_itSEEDParams_NX\n",
      "IT_mpeLLH_itSEEDParams_NY\n",
      "IT_mpeLLH_itSEEDParams_Kappa\n",
      "IT_mpeLLH_itSEEDParams_Dcurve\n",
      "IT_mpeLLH_itSEEDParams_Ncurve\n",
      "IT_mpeLLH_itSEEDParams_ndof\n",
      "II_speLLH_mpeSEED_x\n",
      "II_speLLH_mpeSEED_y\n",
      "II_speLLH_mpeSEED_z\n",
      "II_speLLH_mpeSEED_time\n",
      "II_speLLH_mpeSEED_zenith\n",
      "II_speLLH_mpeSEED_azimuth\n",
      "II_speLLH_mpeSEED_energy\n",
      "II_speLLH_mpeSEED_speed\n",
      "II_speLLH_mpeSEED_length\n",
      "II_speLLH_mpeSEED_pdg_encoding\n",
      "II_speLLH_mpeSEED_type\n",
      "II_speLLH_mpeSEED_shape\n",
      "II_speLLH_mpeSEED_location\n",
      "II_speLLH_mpeSEED_fit_status\n",
      "II_speLLH_mpeSEEDParams_Log10_S125\n",
      "II_speLLH_mpeSEEDParams_Beta\n",
      "II_speLLH_mpeSEEDParams_RhoMu\n",
      "II_speLLH_mpeSEEDParams_Chi2_ldf\n",
      "II_speLLH_mpeSEEDParams_ndof_ldf\n",
      "II_speLLH_mpeSEEDParams_r_ref\n",
      "II_speLLH_mpeSEEDParams_Moliere\n",
      "II_speLLH_mpeSEEDParams_r_mu_ref\n",
      "II_speLLH_mpeSEEDParams_llh_ldf\n",
      "II_speLLH_mpeSEEDParams_LDFtype\n",
      "II_speLLH_mpeSEEDParams_gamma\n",
      "II_speLLH_mpeSEEDParams_omega\n",
      "II_speLLH_mpeSEEDParams_Amp\n",
      "II_speLLH_mpeSEEDParams_Chi2_time\n",
      "II_speLLH_mpeSEEDParams_ndof_time\n",
      "II_speLLH_mpeSEEDParams_llh_time\n",
      "II_speLLH_mpeSEEDParams_NX\n",
      "II_speLLH_mpeSEEDParams_NY\n",
      "II_speLLH_mpeSEEDParams_Kappa\n",
      "II_speLLH_mpeSEEDParams_Dcurve\n",
      "II_speLLH_mpeSEEDParams_Ncurve\n",
      "II_speLLH_mpeSEEDParams_ndof\n",
      "Laputop_x\n",
      "Laputop_y\n",
      "Laputop_z\n",
      "Laputop_time\n",
      "Laputop_zenith\n",
      "Laputop_azimuth\n",
      "Laputop_energy\n",
      "Laputop_speed\n",
      "Laputop_length\n",
      "Laputop_pdg_encoding\n",
      "Laputop_type\n",
      "Laputop_shape\n",
      "Laputop_location\n",
      "Laputop_fit_status\n",
      "LaputopParams_s125\n",
      "LaputopParams_beta\n",
      "LaputopParams_age\n",
      "LaputopParams_A\n",
      "LaputopParams_D\n",
      "LaputopParams_N\n",
      "LaputopParams_xc_err\n",
      "LaputopParams_yc_err\n",
      "LaputopParams_ny_err\n",
      "LaputopParams_nx_err\n",
      "LaputopParams_tc_err\n",
      "LaputopParams_log10_s125_err\n",
      "LaputopParams_beta_err\n",
      "LaputopParams_A_err\n",
      "LaputopParams_D_err\n",
      "LaputopParams_N_err\n",
      "LaputopParams_s50\n",
      "LaputopParams_s70\n",
      "LaputopParams_s80\n",
      "LaputopParams_s100\n",
      "LaputopParams_s150\n",
      "LaputopParams_s180\n",
      "LaputopParams_s250\n",
      "LaputopParams_s500\n",
      "LaputopParams_e_proton\n",
      "LaputopParams_e_iron\n",
      "LaputopParams_e_h4a\n",
      "LaputopParams_llh\n",
      "LaputopParams_llh_silent\n",
      "LaputopParams_chi2\n",
      "LaputopParams_chi2_time\n",
      "LaputopParams_ndf\n",
      "LaputopParams_rlogl\n",
      "LaputopParams_nmini\n",
      "MCPrimary_x\n",
      "MCPrimary_y\n",
      "MCPrimary_z\n",
      "MCPrimary_time\n",
      "MCPrimary_zenith\n",
      "MCPrimary_azimuth\n",
      "MCPrimary_energy\n",
      "MCPrimary_speed\n",
      "MCPrimary_length\n",
      "MCPrimary_pdg_encoding\n",
      "MCPrimary_type\n",
      "MCPrimary_shape\n",
      "MCPrimary_location\n",
      "MCPrimary_fit_status\n",
      "CoincMuonReco_SPEFit2_x\n",
      "CoincMuonReco_SPEFit2_y\n",
      "CoincMuonReco_SPEFit2_z\n",
      "CoincMuonReco_SPEFit2_time\n",
      "CoincMuonReco_SPEFit2_zenith\n",
      "CoincMuonReco_SPEFit2_azimuth\n",
      "CoincMuonReco_SPEFit2_energy\n",
      "CoincMuonReco_SPEFit2_speed\n",
      "CoincMuonReco_SPEFit2_length\n",
      "CoincMuonReco_SPEFit2_pdg_encoding\n",
      "CoincMuonReco_SPEFit2_type\n",
      "CoincMuonReco_SPEFit2_shape\n",
      "CoincMuonReco_SPEFit2_location\n",
      "CoincMuonReco_SPEFit2_fit_status\n",
      "CoincMuonReco_MPEFit_x\n",
      "CoincMuonReco_MPEFit_y\n",
      "CoincMuonReco_MPEFit_z\n",
      "CoincMuonReco_MPEFit_time\n",
      "CoincMuonReco_MPEFit_zenith\n",
      "CoincMuonReco_MPEFit_azimuth\n",
      "CoincMuonReco_MPEFit_energy\n",
      "CoincMuonReco_MPEFit_speed\n",
      "CoincMuonReco_MPEFit_length\n",
      "CoincMuonReco_MPEFit_pdg_encoding\n",
      "CoincMuonReco_MPEFit_type\n",
      "CoincMuonReco_MPEFit_shape\n",
      "CoincMuonReco_MPEFit_location\n",
      "CoincMuonReco_MPEFit_fit_status\n",
      "True_IT_Cont_value\n",
      "True_II_Cont_value\n",
      "Good_COMBO_IT_value\n",
      "Good_COMBO_II_value\n",
      "Good_Laputop_value\n",
      "Good_MPE_value\n",
      "Weighting_value\n",
      "Stoch_Reco_eloss_1000\n",
      "Stoch_Reco_eloss_1500\n",
      "Stoch_Reco_eloss_1600\n",
      "Stoch_Reco_eloss_1700\n",
      "Stoch_Reco_eloss_1800\n",
      "Stoch_Reco_eloss_1900\n",
      "Stoch_Reco_eloss_2000\n",
      "Stoch_Reco_eloss_2100\n",
      "Stoch_Reco_eloss_2200\n",
      "Stoch_Reco_eloss_2300\n",
      "Stoch_Reco_eloss_2400\n",
      "Stoch_Reco_eloss_3000\n",
      "Stoch_Reco_a_estim\n",
      "Stoch_Reco_a_estim_err\n",
      "Stoch_Reco_e0_estim\n",
      "Stoch_Reco_e0_estim_err\n",
      "Stoch_Reco_stoch_energy\n",
      "Stoch_Reco_rel_stoch_energy\n",
      "Stoch_Reco_total_stoch_energy\n",
      "Stoch_Reco_total_rel_stoch_energy\n",
      "Stoch_Reco_highest_stoch_energy\n",
      "Stoch_Reco_highest_rel_stoch_energy\n",
      "Stoch_Reco_chi2\n",
      "Stoch_Reco_chi2_red\n",
      "Stoch_Reco_stoch_depth\n",
      "Stoch_Reco_n_he_stoch\n",
      "Stoch_Reco_fit_status\n",
      "good_ElossReco_IT_mpeLLH_itSEEDStoch_Reco_EM_eloss_1000\n",
      "good_ElossReco_IT_mpeLLH_itSEEDStoch_Reco_EM_eloss_1500\n",
      "good_ElossReco_IT_mpeLLH_itSEEDStoch_Reco_EM_eloss_1600\n",
      "good_ElossReco_IT_mpeLLH_itSEEDStoch_Reco_EM_eloss_1700\n",
      "good_ElossReco_IT_mpeLLH_itSEEDStoch_Reco_EM_eloss_1800\n",
      "good_ElossReco_IT_mpeLLH_itSEEDStoch_Reco_EM_eloss_1900\n",
      "good_ElossReco_IT_mpeLLH_itSEEDStoch_Reco_EM_eloss_2000\n",
      "good_ElossReco_IT_mpeLLH_itSEEDStoch_Reco_EM_eloss_2100\n",
      "good_ElossReco_IT_mpeLLH_itSEEDStoch_Reco_EM_eloss_2200\n",
      "good_ElossReco_IT_mpeLLH_itSEEDStoch_Reco_EM_eloss_2300\n",
      "good_ElossReco_IT_mpeLLH_itSEEDStoch_Reco_EM_eloss_2400\n",
      "good_ElossReco_IT_mpeLLH_itSEEDStoch_Reco_EM_eloss_3000\n",
      "good_ElossReco_IT_mpeLLH_itSEEDStoch_Reco_EM_a_estim\n",
      "good_ElossReco_IT_mpeLLH_itSEEDStoch_Reco_EM_a_estim_err\n",
      "good_ElossReco_IT_mpeLLH_itSEEDStoch_Reco_EM_e0_estim\n",
      "good_ElossReco_IT_mpeLLH_itSEEDStoch_Reco_EM_e0_estim_err\n",
      "good_ElossReco_IT_mpeLLH_itSEEDStoch_Reco_EM_stoch_energy\n",
      "good_ElossReco_IT_mpeLLH_itSEEDStoch_Reco_EM_rel_stoch_energy\n",
      "good_ElossReco_IT_mpeLLH_itSEEDStoch_Reco_EM_total_stoch_energy\n",
      "good_ElossReco_IT_mpeLLH_itSEEDStoch_Reco_EM_total_rel_stoch_energy\n",
      "good_ElossReco_IT_mpeLLH_itSEEDStoch_Reco_EM_highest_stoch_energy\n",
      "good_ElossReco_IT_mpeLLH_itSEEDStoch_Reco_EM_highest_rel_stoch_energy\n",
      "good_ElossReco_IT_mpeLLH_itSEEDStoch_Reco_EM_chi2\n",
      "good_ElossReco_IT_mpeLLH_itSEEDStoch_Reco_EM_chi2_red\n",
      "good_ElossReco_IT_mpeLLH_itSEEDStoch_Reco_EM_stoch_depth\n",
      "good_ElossReco_IT_mpeLLH_itSEEDStoch_Reco_EM_n_he_stoch\n",
      "good_ElossReco_IT_mpeLLH_itSEEDStoch_Reco_EM_fit_status\n",
      "good_ElossReco_II_speLLH_mpeSEEDStoch_Reco_EM_eloss_1000\n",
      "good_ElossReco_II_speLLH_mpeSEEDStoch_Reco_EM_eloss_1500\n",
      "good_ElossReco_II_speLLH_mpeSEEDStoch_Reco_EM_eloss_1600\n",
      "good_ElossReco_II_speLLH_mpeSEEDStoch_Reco_EM_eloss_1700\n",
      "good_ElossReco_II_speLLH_mpeSEEDStoch_Reco_EM_eloss_1800\n",
      "good_ElossReco_II_speLLH_mpeSEEDStoch_Reco_EM_eloss_1900\n",
      "good_ElossReco_II_speLLH_mpeSEEDStoch_Reco_EM_eloss_2000\n",
      "good_ElossReco_II_speLLH_mpeSEEDStoch_Reco_EM_eloss_2100\n",
      "good_ElossReco_II_speLLH_mpeSEEDStoch_Reco_EM_eloss_2200\n",
      "good_ElossReco_II_speLLH_mpeSEEDStoch_Reco_EM_eloss_2300\n",
      "good_ElossReco_II_speLLH_mpeSEEDStoch_Reco_EM_eloss_2400\n",
      "good_ElossReco_II_speLLH_mpeSEEDStoch_Reco_EM_eloss_3000\n",
      "good_ElossReco_II_speLLH_mpeSEEDStoch_Reco_EM_a_estim\n",
      "good_ElossReco_II_speLLH_mpeSEEDStoch_Reco_EM_a_estim_err\n",
      "good_ElossReco_II_speLLH_mpeSEEDStoch_Reco_EM_e0_estim\n",
      "good_ElossReco_II_speLLH_mpeSEEDStoch_Reco_EM_e0_estim_err\n",
      "good_ElossReco_II_speLLH_mpeSEEDStoch_Reco_EM_stoch_energy\n",
      "good_ElossReco_II_speLLH_mpeSEEDStoch_Reco_EM_rel_stoch_energy\n",
      "good_ElossReco_II_speLLH_mpeSEEDStoch_Reco_EM_total_stoch_energy\n",
      "good_ElossReco_II_speLLH_mpeSEEDStoch_Reco_EM_total_rel_stoch_energy\n",
      "good_ElossReco_II_speLLH_mpeSEEDStoch_Reco_EM_highest_stoch_energy\n",
      "good_ElossReco_II_speLLH_mpeSEEDStoch_Reco_EM_highest_rel_stoch_energy\n",
      "good_ElossReco_II_speLLH_mpeSEEDStoch_Reco_EM_chi2\n",
      "good_ElossReco_II_speLLH_mpeSEEDStoch_Reco_EM_chi2_red\n",
      "good_ElossReco_II_speLLH_mpeSEEDStoch_Reco_EM_stoch_depth\n",
      "good_ElossReco_II_speLLH_mpeSEEDStoch_Reco_EM_n_he_stoch\n",
      "good_ElossReco_II_speLLH_mpeSEEDStoch_Reco_EM_fit_status\n",
      "good_ElossReco_IT_mpeLLH_itSEEDStoch_Reco2_EM_eloss_1000\n",
      "good_ElossReco_IT_mpeLLH_itSEEDStoch_Reco2_EM_eloss_1500\n",
      "good_ElossReco_IT_mpeLLH_itSEEDStoch_Reco2_EM_eloss_1600\n",
      "good_ElossReco_IT_mpeLLH_itSEEDStoch_Reco2_EM_eloss_1700\n",
      "good_ElossReco_IT_mpeLLH_itSEEDStoch_Reco2_EM_eloss_1800\n",
      "good_ElossReco_IT_mpeLLH_itSEEDStoch_Reco2_EM_eloss_1900\n",
      "good_ElossReco_IT_mpeLLH_itSEEDStoch_Reco2_EM_eloss_2000\n",
      "good_ElossReco_IT_mpeLLH_itSEEDStoch_Reco2_EM_eloss_2100\n",
      "good_ElossReco_IT_mpeLLH_itSEEDStoch_Reco2_EM_eloss_2200\n",
      "good_ElossReco_IT_mpeLLH_itSEEDStoch_Reco2_EM_eloss_2300\n",
      "good_ElossReco_IT_mpeLLH_itSEEDStoch_Reco2_EM_eloss_2400\n",
      "good_ElossReco_IT_mpeLLH_itSEEDStoch_Reco2_EM_eloss_3000\n",
      "good_ElossReco_IT_mpeLLH_itSEEDStoch_Reco2_EM_a_estim\n",
      "good_ElossReco_IT_mpeLLH_itSEEDStoch_Reco2_EM_a_estim_err\n",
      "good_ElossReco_IT_mpeLLH_itSEEDStoch_Reco2_EM_e0_estim\n",
      "good_ElossReco_IT_mpeLLH_itSEEDStoch_Reco2_EM_e0_estim_err\n",
      "good_ElossReco_IT_mpeLLH_itSEEDStoch_Reco2_EM_stoch_energy\n",
      "good_ElossReco_IT_mpeLLH_itSEEDStoch_Reco2_EM_rel_stoch_energy\n",
      "good_ElossReco_IT_mpeLLH_itSEEDStoch_Reco2_EM_total_stoch_energy\n",
      "good_ElossReco_IT_mpeLLH_itSEEDStoch_Reco2_EM_total_rel_stoch_energy\n",
      "good_ElossReco_IT_mpeLLH_itSEEDStoch_Reco2_EM_highest_stoch_energy\n",
      "good_ElossReco_IT_mpeLLH_itSEEDStoch_Reco2_EM_highest_rel_stoch_energy\n",
      "good_ElossReco_IT_mpeLLH_itSEEDStoch_Reco2_EM_chi2\n",
      "good_ElossReco_IT_mpeLLH_itSEEDStoch_Reco2_EM_chi2_red\n",
      "good_ElossReco_IT_mpeLLH_itSEEDStoch_Reco2_EM_stoch_depth\n",
      "good_ElossReco_IT_mpeLLH_itSEEDStoch_Reco2_EM_n_he_stoch\n",
      "good_ElossReco_IT_mpeLLH_itSEEDStoch_Reco2_EM_fit_status\n",
      "good_ElossReco_II_speLLH_mpeSEEDStoch_Reco2_EM_eloss_1000\n",
      "good_ElossReco_II_speLLH_mpeSEEDStoch_Reco2_EM_eloss_1500\n",
      "good_ElossReco_II_speLLH_mpeSEEDStoch_Reco2_EM_eloss_1600\n",
      "good_ElossReco_II_speLLH_mpeSEEDStoch_Reco2_EM_eloss_1700\n",
      "good_ElossReco_II_speLLH_mpeSEEDStoch_Reco2_EM_eloss_1800\n",
      "good_ElossReco_II_speLLH_mpeSEEDStoch_Reco2_EM_eloss_1900\n",
      "good_ElossReco_II_speLLH_mpeSEEDStoch_Reco2_EM_eloss_2000\n",
      "good_ElossReco_II_speLLH_mpeSEEDStoch_Reco2_EM_eloss_2100\n",
      "good_ElossReco_II_speLLH_mpeSEEDStoch_Reco2_EM_eloss_2200\n",
      "good_ElossReco_II_speLLH_mpeSEEDStoch_Reco2_EM_eloss_2300\n",
      "good_ElossReco_II_speLLH_mpeSEEDStoch_Reco2_EM_eloss_2400\n",
      "good_ElossReco_II_speLLH_mpeSEEDStoch_Reco2_EM_eloss_3000\n",
      "good_ElossReco_II_speLLH_mpeSEEDStoch_Reco2_EM_a_estim\n",
      "good_ElossReco_II_speLLH_mpeSEEDStoch_Reco2_EM_a_estim_err\n",
      "good_ElossReco_II_speLLH_mpeSEEDStoch_Reco2_EM_e0_estim\n",
      "good_ElossReco_II_speLLH_mpeSEEDStoch_Reco2_EM_e0_estim_err\n",
      "good_ElossReco_II_speLLH_mpeSEEDStoch_Reco2_EM_stoch_energy\n",
      "good_ElossReco_II_speLLH_mpeSEEDStoch_Reco2_EM_rel_stoch_energy\n",
      "good_ElossReco_II_speLLH_mpeSEEDStoch_Reco2_EM_total_stoch_energy\n",
      "good_ElossReco_II_speLLH_mpeSEEDStoch_Reco2_EM_total_rel_stoch_energy\n",
      "good_ElossReco_II_speLLH_mpeSEEDStoch_Reco2_EM_highest_stoch_energy\n",
      "good_ElossReco_II_speLLH_mpeSEEDStoch_Reco2_EM_highest_rel_stoch_energy\n",
      "good_ElossReco_II_speLLH_mpeSEEDStoch_Reco2_EM_chi2\n",
      "good_ElossReco_II_speLLH_mpeSEEDStoch_Reco2_EM_chi2_red\n",
      "good_ElossReco_II_speLLH_mpeSEEDStoch_Reco2_EM_stoch_depth\n",
      "good_ElossReco_II_speLLH_mpeSEEDStoch_Reco2_EM_n_he_stoch\n",
      "good_ElossReco_II_speLLH_mpeSEEDStoch_Reco2_EM_fit_status\n",
      "Good_SPE_value\n",
      "Stoch_Reco2_eloss_1000\n",
      "Stoch_Reco2_eloss_1500\n",
      "Stoch_Reco2_eloss_1600\n",
      "Stoch_Reco2_eloss_1700\n",
      "Stoch_Reco2_eloss_1800\n",
      "Stoch_Reco2_eloss_1900\n",
      "Stoch_Reco2_eloss_2000\n",
      "Stoch_Reco2_eloss_2100\n",
      "Stoch_Reco2_eloss_2200\n",
      "Stoch_Reco2_eloss_2300\n",
      "Stoch_Reco2_eloss_2400\n",
      "Stoch_Reco2_eloss_3000\n",
      "Stoch_Reco2_a_estim\n",
      "Stoch_Reco2_a_estim_err\n",
      "Stoch_Reco2_e0_estim\n",
      "Stoch_Reco2_e0_estim_err\n",
      "Stoch_Reco2_stoch_energy\n",
      "Stoch_Reco2_rel_stoch_energy\n",
      "Stoch_Reco2_total_stoch_energy\n",
      "Stoch_Reco2_total_rel_stoch_energy\n",
      "Stoch_Reco2_highest_stoch_energy\n",
      "Stoch_Reco2_highest_rel_stoch_energy\n",
      "Stoch_Reco2_chi2\n",
      "Stoch_Reco2_chi2_red\n",
      "Stoch_Reco2_stoch_depth\n",
      "Stoch_Reco2_n_he_stoch\n",
      "Stoch_Reco2_fit_status\n",
      "G2diff_value\n",
      "G1newStoch_value\n",
      "G2newStoch_value\n",
      "Laputop_coszen\n"
     ]
    }
   ],
   "source": [
    "for key in my_itP_og.keys():\n",
    "    print(key)"
   ]
  },
  {
   "cell_type": "code",
   "execution_count": 11,
   "metadata": {},
   "outputs": [],
   "source": [
    "s125 = np.log10(my_itP_og['LaputopParams_s125']).append(np.log10(my_itF_og['LaputopParams_s125']))\n",
    "beta = my_itP_og['LaputopParams_beta'].append(my_itF_og['LaputopParams_beta'])\n"
   ]
  },
  {
   "cell_type": "code",
   "execution_count": 12,
   "metadata": {},
   "outputs": [],
   "source": [
    "#s125 = my_itP_g1['LaputopParams_Log10_S125'].append(my_itF_g1['LaputopParams_Log10_S125'])\n",
    "zenith = my_itP_og['Laputop_coszen'].append(my_itF_og['Laputop_coszen'])\n",
    "e_loss = my_itP_og['Stoch_Reco_eloss_1500'].append(my_itF_og['Stoch_Reco_eloss_1500'])\n",
    "n_he_stoc = my_itP_og['Stoch_Reco_n_he_stoch'].append(my_itF_og['Stoch_Reco_n_he_stoch'])\n",
    "n_he_stoc_hi = my_itP_og['Stoch_Reco2_n_he_stoch'].append(my_itF_og['Stoch_Reco2_n_he_stoch'])\n",
    "mc_weig = my_itP_og['Weighting_value'].append(my_itF_og['Weighting_value'])\n",
    "mc_ene = my_itP_og['MCPrimary_energy']\n",
    "mc_mass = np.ones(len(my_itP_og['MCPrimary_energy'])*1)\n",
    "mc_ene = mc_ene.append(my_itF_og['MCPrimary_energy'])\n",
    "mc_mass = np.concatenate((mc_mass,np.full(len(my_itF_og['MCPrimary_energy']),56)),axis=0)"
   ]
  },
  {
   "cell_type": "code",
   "execution_count": 13,
   "metadata": {},
   "outputs": [],
   "source": [
    "detector_output, physic_output = list(zip(s125,beta,zenith,e_loss,n_he_stoc,n_he_stoc_hi)), list(zip(mc_ene,mc_mass))"
   ]
  },
  {
   "cell_type": "code",
   "execution_count": 14,
   "metadata": {},
   "outputs": [],
   "source": [
    "mc_weig = my_itP_og['Weighting_value'].append(my_itF_og['Weighting_value'])"
   ]
  },
  {
   "cell_type": "code",
   "execution_count": 15,
   "metadata": {},
   "outputs": [],
   "source": [
    "#L_train, L_test, y_train, y_test , mass_train, mass_test,weig_train,weig_test= train_test_split(detector_output_scaled, physic_output,mass_output,mc_weig, test_size=test_size, random_state=rdm_st)\n",
    "X_train, X_test, y_train, y_test, weight_train, weight_test, = train_test_split(detector_output, physic_output,mc_weig, test_size=test_size, random_state=rdm_st)"
   ]
  },
  {
   "cell_type": "code",
   "execution_count": 16,
   "metadata": {},
   "outputs": [],
   "source": [
    "#max_depth=mx_depth,random_state=rdm_st,bootstrap=boot,verbose=True,oob_score=oob,n_jobs=4\n",
    "regr_multi_rf = RandomForestRegressor(criterion=crit, n_estimators=num_tree, max_depth=mx_depth,random_state=rdm_st,bootstrap=boot,verbose=True,oob_score=oob,n_jobs=6)"
   ]
  },
  {
   "cell_type": "code",
   "execution_count": 17,
   "metadata": {},
   "outputs": [
    {
     "name": "stderr",
     "output_type": "stream",
     "text": [
      "[Parallel(n_jobs=6)]: Using backend ThreadingBackend with 6 concurrent workers.\n",
      "[Parallel(n_jobs=6)]: Done  38 tasks      | elapsed:    2.0s\n",
      "[Parallel(n_jobs=6)]: Done 188 tasks      | elapsed:    8.9s\n",
      "[Parallel(n_jobs=6)]: Done 438 tasks      | elapsed:   21.0s\n",
      "[Parallel(n_jobs=6)]: Done 500 out of 500 | elapsed:   24.0s finished\n"
     ]
    },
    {
     "data": {
      "text/plain": [
       "RandomForestRegressor(max_depth=1000, n_estimators=500, n_jobs=6,\n",
       "                      oob_score=True, random_state=42, verbose=True)"
      ]
     },
     "execution_count": 17,
     "metadata": {},
     "output_type": "execute_result"
    }
   ],
   "source": [
    "regr_multi_rf.fit(X_train,y_train)"
   ]
  },
  {
   "cell_type": "code",
   "execution_count": 18,
   "metadata": {},
   "outputs": [
    {
     "name": "stderr",
     "output_type": "stream",
     "text": [
      "[Parallel(n_jobs=6)]: Using backend ThreadingBackend with 6 concurrent workers.\n",
      "[Parallel(n_jobs=6)]: Done  38 tasks      | elapsed:    0.1s\n",
      "[Parallel(n_jobs=6)]: Done 188 tasks      | elapsed:    0.3s\n",
      "[Parallel(n_jobs=6)]: Done 438 tasks      | elapsed:    0.7s\n",
      "[Parallel(n_jobs=6)]: Done 500 out of 500 | elapsed:    0.8s finished\n"
     ]
    }
   ],
   "source": [
    "pred = regr_multi_rf.predict(X_test)  "
   ]
  },
  {
   "cell_type": "code",
   "execution_count": 19,
   "metadata": {},
   "outputs": [
    {
     "name": "stdout",
     "output_type": "stream",
     "text": [
      "0.776091932373568\n"
     ]
    },
    {
     "data": {
      "image/png": "[encoded data removed]",
      "text/plain": [
       "<Figure size 432x288 with 1 Axes>"
      ]
     },
     "metadata": {
      "needs_background": "light"
     },
     "output_type": "display_data"
    }
   ],
   "source": [
    "print(regr_multi_rf.oob_score_)\n",
    "importt = regr_multi_rf.feature_importances_\n",
    "feat_names = ['s125','beta','zenith','e_loss','n_he_stoc','n_he_stoc_hi']\n",
    "feat_nums = [1,2,3,4,5,6]\n",
    "feat_namesC = ['s125','beta','C_{2}','zenith','e_loss','n_he_stoc','n_he_stoc_hi','n_he_stoc_dE']\n",
    "feat_numsC = [1,2,3,4,5,6,7,8]\n",
    "fig1, ax1 = plt.subplots(1,1)\n",
    "ax1.bar(feat_nums,importt)\n",
    "plt.xticks(feat_nums, feat_names,fontsize=10)\n",
    "plt.ylabel(\"log(Feature Importance)\",fontsize=10)\n",
    "ax1.set_yscale('log')"
   ]
  },
  {
   "cell_type": "code",
   "execution_count": 20,
   "metadata": {},
   "outputs": [
    {
     "data": {
      "text/plain": [
       "['/Users/dork/Home/GithubRepo/Files/stepB_final_predX_stepA_OGall.pkl']"
      ]
     },
     "execution_count": 20,
     "metadata": {},
     "output_type": "execute_result"
    }
   ],
   "source": [
    "joblib.dump(regr_multi_rf,file_storage+'stepB_final_rft_regressor_combo_'+sim_type+'.pkl')\n",
    "joblib.dump(pred,file_storage+'stepB_final_predX_'+sim_type+'.pkl')"
   ]
  },
  {
   "cell_type": "code",
   "execution_count": 21,
   "metadata": {},
   "outputs": [],
   "source": [
    "eng_detector_output, eng_physic_output = list(zip(s125,beta,zenith,e_loss,n_he_stoc,n_he_stoc_hi)), list(zip(mc_ene))"
   ]
  },
  {
   "cell_type": "code",
   "execution_count": 22,
   "metadata": {},
   "outputs": [],
   "source": [
    "eng_X_train, eng_X_test, eng_y_train, eng_y_test, eng_weight_train, eng_weight_test, = train_test_split(eng_detector_output, eng_physic_output,mc_weig, test_size=test_size, random_state=rdm_st)"
   ]
  },
  {
   "cell_type": "code",
   "execution_count": 23,
   "metadata": {},
   "outputs": [],
   "source": [
    "eng_regr_multi_rf = RandomForestRegressor(criterion=crit, n_estimators=num_tree, max_depth=mx_depth,random_state=rdm_st,bootstrap=boot,verbose=True,oob_score=oob,n_jobs=6)"
   ]
  },
  {
   "cell_type": "code",
   "execution_count": 24,
   "metadata": {},
   "outputs": [
    {
     "name": "stderr",
     "output_type": "stream",
     "text": [
      "<ipython-input-24-2fce794a6fc5>:1: DataConversionWarning: A column-vector y was passed when a 1d array was expected. Please change the shape of y to (n_samples,), for example using ravel().\n",
      "  eng_regr_multi_rf.fit(eng_X_train,eng_y_train)\n",
      "[Parallel(n_jobs=6)]: Using backend ThreadingBackend with 6 concurrent workers.\n",
      "[Parallel(n_jobs=6)]: Done  38 tasks      | elapsed:    2.0s\n",
      "[Parallel(n_jobs=6)]: Done 188 tasks      | elapsed:    9.1s\n",
      "[Parallel(n_jobs=6)]: Done 438 tasks      | elapsed:   20.5s\n",
      "[Parallel(n_jobs=6)]: Done 500 out of 500 | elapsed:   23.3s finished\n"
     ]
    },
    {
     "data": {
      "text/plain": [
       "RandomForestRegressor(max_depth=1000, n_estimators=500, n_jobs=6,\n",
       "                      oob_score=True, random_state=42, verbose=True)"
      ]
     },
     "execution_count": 24,
     "metadata": {},
     "output_type": "execute_result"
    }
   ],
   "source": [
    "eng_regr_multi_rf.fit(eng_X_train,eng_y_train)"
   ]
  },
  {
   "cell_type": "code",
   "execution_count": 25,
   "metadata": {},
   "outputs": [
    {
     "name": "stderr",
     "output_type": "stream",
     "text": [
      "[Parallel(n_jobs=6)]: Using backend ThreadingBackend with 6 concurrent workers.\n",
      "[Parallel(n_jobs=6)]: Done  38 tasks      | elapsed:    0.1s\n",
      "[Parallel(n_jobs=6)]: Done 188 tasks      | elapsed:    0.5s\n",
      "[Parallel(n_jobs=6)]: Done 438 tasks      | elapsed:    1.0s\n",
      "[Parallel(n_jobs=6)]: Done 500 out of 500 | elapsed:    1.1s finished\n"
     ]
    }
   ],
   "source": [
    "eng_pred = eng_regr_multi_rf.predict(eng_X_test)  \n"
   ]
  },
  {
   "cell_type": "code",
   "execution_count": 26,
   "metadata": {},
   "outputs": [
    {
     "name": "stdout",
     "output_type": "stream",
     "text": [
      "0.9857743542525403\n"
     ]
    },
    {
     "data": {
      "image/png": "[encoded data removed]",
      "text/plain": [
       "<Figure size 432x288 with 1 Axes>"
      ]
     },
     "metadata": {
      "needs_background": "light"
     },
     "output_type": "display_data"
    }
   ],
   "source": [
    "print(eng_regr_multi_rf.oob_score_)\n",
    "eng_importt = eng_regr_multi_rf.feature_importances_\n",
    "feat_names = ['s125','beta','zenith','e_loss','n_he_stoc','n_he_stoc_hi']\n",
    "feat_nums = [1,2,3,4,5,6]\n",
    "feat_namesC = ['s125','beta','C_{2}','zenith','e_loss','n_he_stoc','n_he_stoc_hi','n_he_stoc_dE']\n",
    "feat_numsC = [1,2,3,4,5,6,7,8]\n",
    "fig1, ax1 = plt.subplots(1,1)\n",
    "ax1.bar(feat_nums,eng_importt)\n",
    "plt.xticks(feat_nums, feat_names,fontsize=10)\n",
    "plt.ylabel(\"log(Feature Importance)\",fontsize=10)\n",
    "ax1.set_yscale('log')"
   ]
  },
  {
   "cell_type": "code",
   "execution_count": 27,
   "metadata": {},
   "outputs": [
    {
     "data": {
      "text/plain": [
       "['/Users/dork/Home/GithubRepo/Files/stepB_eng_rft_regressor_combo_stepA_OGall.pkl']"
      ]
     },
     "execution_count": 27,
     "metadata": {},
     "output_type": "execute_result"
    }
   ],
   "source": [
    "joblib.dump(eng_regr_multi_rf,file_storage+'stepB_eng_rft_regressor_combo_'+sim_type+'.pkl')"
   ]
  },
  {
   "cell_type": "code",
   "execution_count": 28,
   "metadata": {},
   "outputs": [],
   "source": [
    "mass_detector_output, mass_physic_output = list(zip(s125,beta,zenith,e_loss,n_he_stoc,n_he_stoc_hi)), list(zip(mc_mass))"
   ]
  },
  {
   "cell_type": "code",
   "execution_count": 29,
   "metadata": {},
   "outputs": [],
   "source": [
    "mass_X_train, mass_X_test, mass_y_train, mass_y_test, mass_weight_train, mass_weight_test, = train_test_split(mass_detector_output, mass_physic_output,mc_weig, test_size=test_size, random_state=rdm_st)"
   ]
  },
  {
   "cell_type": "code",
   "execution_count": 30,
   "metadata": {},
   "outputs": [],
   "source": [
    "mass_regr_multi_rf = RandomForestRegressor(criterion=crit, n_estimators=num_tree, max_depth=mx_depth,random_state=rdm_st,bootstrap=boot,verbose=True,oob_score=oob,n_jobs=6)"
   ]
  },
  {
   "cell_type": "code",
   "execution_count": 31,
   "metadata": {},
   "outputs": [
    {
     "name": "stderr",
     "output_type": "stream",
     "text": [
      "<ipython-input-31-1e029cab763d>:1: DataConversionWarning: A column-vector y was passed when a 1d array was expected. Please change the shape of y to (n_samples,), for example using ravel().\n",
      "  mass_regr_multi_rf.fit(mass_X_train,mass_y_train)\n",
      "[Parallel(n_jobs=6)]: Using backend ThreadingBackend with 6 concurrent workers.\n",
      "[Parallel(n_jobs=6)]: Done  38 tasks      | elapsed:    1.4s\n",
      "[Parallel(n_jobs=6)]: Done 188 tasks      | elapsed:    6.4s\n",
      "[Parallel(n_jobs=6)]: Done 438 tasks      | elapsed:   14.9s\n",
      "[Parallel(n_jobs=6)]: Done 500 out of 500 | elapsed:   16.9s finished\n"
     ]
    },
    {
     "data": {
      "text/plain": [
       "RandomForestRegressor(max_depth=1000, n_estimators=500, n_jobs=6,\n",
       "                      oob_score=True, random_state=42, verbose=True)"
      ]
     },
     "execution_count": 31,
     "metadata": {},
     "output_type": "execute_result"
    }
   ],
   "source": [
    "mass_regr_multi_rf.fit(mass_X_train,mass_y_train)"
   ]
  },
  {
   "cell_type": "code",
   "execution_count": 32,
   "metadata": {},
   "outputs": [
    {
     "name": "stderr",
     "output_type": "stream",
     "text": [
      "[Parallel(n_jobs=6)]: Using backend ThreadingBackend with 6 concurrent workers.\n",
      "[Parallel(n_jobs=6)]: Done  38 tasks      | elapsed:    0.0s\n",
      "[Parallel(n_jobs=6)]: Done 188 tasks      | elapsed:    0.1s\n",
      "[Parallel(n_jobs=6)]: Done 438 tasks      | elapsed:    0.3s\n",
      "[Parallel(n_jobs=6)]: Done 500 out of 500 | elapsed:    0.3s finished\n"
     ]
    }
   ],
   "source": [
    "mass_pred = mass_regr_multi_rf.predict(mass_X_test) "
   ]
  },
  {
   "cell_type": "code",
   "execution_count": 33,
   "metadata": {},
   "outputs": [
    {
     "name": "stdout",
     "output_type": "stream",
     "text": [
      "0.5879318693390247\n"
     ]
    },
    {
     "data": {
      "image/png": "[encoded data removed]",
      "text/plain": [
       "<Figure size 432x288 with 1 Axes>"
      ]
     },
     "metadata": {
      "needs_background": "light"
     },
     "output_type": "display_data"
    }
   ],
   "source": [
    "print(mass_regr_multi_rf.oob_score_)\n",
    "mass_importt = mass_regr_multi_rf.feature_importances_\n",
    "feat_names = ['s125','beta','zenith','e_loss','n_he_stoc','n_he_stoc_hi']\n",
    "feat_nums = [1,2,3,4,5,6]\n",
    "feat_namesC = ['s125','beta','C_{2}','zenith','e_loss','n_he_stoc','n_he_stoc_hi','n_he_stoc_dE']\n",
    "feat_numsC = [1,2,3,4,5,6,7,8]\n",
    "fig1, ax1 = plt.subplots(1,1)\n",
    "ax1.bar(feat_nums,mass_importt)\n",
    "plt.xticks(feat_nums, feat_names,fontsize=10)\n",
    "plt.ylabel(\"log(Feature Importance)\",fontsize=10)\n",
    "ax1.set_yscale('log')"
   ]
  },
  {
   "cell_type": "code",
   "execution_count": 34,
   "metadata": {},
   "outputs": [
    {
     "data": {
      "text/plain": [
       "['/Users/dork/Home/GithubRepo/Files/stepB_mass_rft_regressor_combo_stepA_OGall.pkl']"
      ]
     },
     "execution_count": 34,
     "metadata": {},
     "output_type": "execute_result"
    }
   ],
   "source": [
    "joblib.dump(mass_regr_multi_rf,file_storage+'stepB_mass_rft_regressor_combo_'+sim_type+'.pkl')\n"
   ]
  },
  {
   "cell_type": "code",
   "execution_count": null,
   "metadata": {},
   "outputs": [],
   "source": []
  },
  {
   "cell_type": "code",
   "execution_count": 35,
   "metadata": {},
   "outputs": [],
   "source": []
  },
  {
   "cell_type": "code",
   "execution_count": 36,
   "metadata": {},
   "outputs": [],
   "source": []
  },
  {
   "cell_type": "code",
   "execution_count": 38,
   "metadata": {},
   "outputs": [],
   "source": [
    "sim_type = \"stepA_3Dg1\"\n",
    "my_itP_g1 = pickle.load( open( file_storage+sim_type+\"_ic86_goodA_p_le.pkl\", \"rb\" ) )\n",
    "my_itF_g1 = pickle.load( open( file_storage+sim_type+\"_ic86_goodA_i_le.pkl\", \"rb\" ) )"
   ]
  },
  {
   "cell_type": "code",
   "execution_count": 39,
   "metadata": {},
   "outputs": [],
   "source": [
    "s125 = my_itP_g1['IT_mpeLLH_itSEEDParams_Log10_S125'].append(my_itF_g1['IT_mpeLLH_itSEEDParams_Log10_S125'])\n",
    "beta = my_itP_g1['IT_mpeLLH_itSEEDParams_Beta'].append(my_itF_g1['IT_mpeLLH_itSEEDParams_Beta'])\n",
    "zenith = my_itP_g1['IT_mpeLLH_itSEED_coszen'].append(my_itF_g1['IT_mpeLLH_itSEED_coszen'])\n",
    "e_loss = my_itP_g1['good_ElossReco_IT_mpeLLH_itSEEDStoch_Reco_EM_eloss_1500'].append(my_itF_g1['good_ElossReco_IT_mpeLLH_itSEEDStoch_Reco_EM_eloss_1500'])\n",
    "n_he_stoc = my_itP_g1['good_ElossReco_IT_mpeLLH_itSEEDStoch_Reco_EM_n_he_stoch'].append(my_itF_g1['good_ElossReco_IT_mpeLLH_itSEEDStoch_Reco_EM_n_he_stoch'])\n",
    "n_he_stoc_hi = my_itP_g1['good_ElossReco_IT_mpeLLH_itSEEDStoch_Reco2_EM_n_he_stoch'].append(my_itF_g1['good_ElossReco_IT_mpeLLH_itSEEDStoch_Reco2_EM_n_he_stoch'])\n",
    "mc_weig = my_itP_g1['Weighting_value'].append(my_itF_g1['Weighting_value'])\n",
    "mc_ene = my_itP_g1['MCPrimary_energy']\n",
    "mc_ene = mc_ene.append(my_itF_g1['MCPrimary_energy'])\n",
    "mc_mass = (my_itP_g1['IT_mpeLLH_itSEED_coszen']/my_itP_g1['IT_mpeLLH_itSEED_coszen'])*1.#my_itP_g1['SimmMass']\n",
    "mc_mass = mc_mass.append((my_itF_g1['IT_mpeLLH_itSEED_coszen']/my_itF_g1['IT_mpeLLH_itSEED_coszen'])*56.)\n",
    "mc_weig = my_itP_g1['Weighting_value'].append(my_itF_g1['Weighting_value'])"
   ]
  },
  {
   "cell_type": "code",
   "execution_count": 40,
   "metadata": {},
   "outputs": [],
   "source": [
    "detector_output, physic_output = list(zip(s125,beta,zenith,e_loss,n_he_stoc,n_he_stoc_hi)), list(zip(mc_ene,mc_mass))"
   ]
  },
  {
   "cell_type": "code",
   "execution_count": 41,
   "metadata": {},
   "outputs": [],
   "source": [
    "X_train, X_test, y_train, y_test, weight_train, weight_test, = train_test_split(detector_output, physic_output,mc_weig, test_size=test_size, random_state=rdm_st)"
   ]
  },
  {
   "cell_type": "code",
   "execution_count": 42,
   "metadata": {},
   "outputs": [],
   "source": [
    "regr_multi_rf = RandomForestRegressor(criterion=crit, n_estimators=num_tree, max_depth=mx_depth,random_state=rdm_st,bootstrap=boot,verbose=True,oob_score=oob,n_jobs=6)"
   ]
  },
  {
   "cell_type": "code",
   "execution_count": 43,
   "metadata": {},
   "outputs": [
    {
     "name": "stderr",
     "output_type": "stream",
     "text": [
      "[Parallel(n_jobs=6)]: Using backend ThreadingBackend with 6 concurrent workers.\n",
      "[Parallel(n_jobs=6)]: Done  38 tasks      | elapsed:    1.5s\n",
      "[Parallel(n_jobs=6)]: Done 188 tasks      | elapsed:    7.0s\n",
      "[Parallel(n_jobs=6)]: Done 438 tasks      | elapsed:   16.3s\n",
      "[Parallel(n_jobs=6)]: Done 500 out of 500 | elapsed:   18.5s finished\n"
     ]
    },
    {
     "data": {
      "text/plain": [
       "RandomForestRegressor(max_depth=1000, n_estimators=500, n_jobs=6,\n",
       "                      oob_score=True, random_state=42, verbose=True)"
      ]
     },
     "execution_count": 43,
     "metadata": {},
     "output_type": "execute_result"
    }
   ],
   "source": [
    "regr_multi_rf.fit(X_train,y_train)"
   ]
  },
  {
   "cell_type": "code",
   "execution_count": 44,
   "metadata": {},
   "outputs": [
    {
     "name": "stderr",
     "output_type": "stream",
     "text": [
      "[Parallel(n_jobs=6)]: Using backend ThreadingBackend with 6 concurrent workers.\n",
      "[Parallel(n_jobs=6)]: Done  38 tasks      | elapsed:    0.1s\n",
      "[Parallel(n_jobs=6)]: Done 188 tasks      | elapsed:    0.2s\n",
      "[Parallel(n_jobs=6)]: Done 438 tasks      | elapsed:    0.4s\n",
      "[Parallel(n_jobs=6)]: Done 500 out of 500 | elapsed:    0.5s finished\n"
     ]
    }
   ],
   "source": [
    "pred = regr_multi_rf.predict(X_test)  "
   ]
  },
  {
   "cell_type": "code",
   "execution_count": 45,
   "metadata": {},
   "outputs": [
    {
     "name": "stdout",
     "output_type": "stream",
     "text": [
      "0.808382600044371\n"
     ]
    },
    {
     "data": {
      "image/png": "[encoded data removed]",
      "text/plain": [
       "<Figure size 432x288 with 1 Axes>"
      ]
     },
     "metadata": {
      "needs_background": "light"
     },
     "output_type": "display_data"
    }
   ],
   "source": [
    "print(regr_multi_rf.oob_score_)\n",
    "importt = regr_multi_rf.feature_importances_\n",
    "feat_names = ['s125','beta','zenith','e_loss','n_he_stoc','n_he_stoc_hi']\n",
    "feat_nums = [1,2,3,4,5,6]\n",
    "feat_namesC = ['s125','beta','C_{2}','zenith','e_loss','n_he_stoc','n_he_stoc_hi','n_he_stoc_dE']\n",
    "feat_numsC = [1,2,3,4,5,6,7,8]\n",
    "fig1, ax1 = plt.subplots(1,1)\n",
    "ax1.bar(feat_nums,importt)\n",
    "plt.xticks(feat_nums, feat_names,fontsize=10)\n",
    "plt.ylabel(\"log(Feature Importance)\",fontsize=10)\n",
    "ax1.set_yscale('log')"
   ]
  },
  {
   "cell_type": "code",
   "execution_count": 46,
   "metadata": {},
   "outputs": [
    {
     "data": {
      "text/plain": [
       "['/Users/dork/Home/GithubRepo/Files/stepB_final_predX_stepA_3Dg1.pkl']"
      ]
     },
     "execution_count": 46,
     "metadata": {},
     "output_type": "execute_result"
    }
   ],
   "source": [
    "joblib.dump(regr_multi_rf,file_storage+'stepB_final_rft_regressor_combo_'+sim_type+'.pkl')\n",
    "joblib.dump(pred,file_storage+'stepB_final_predX_'+sim_type+'.pkl')"
   ]
  },
  {
   "cell_type": "code",
   "execution_count": 47,
   "metadata": {},
   "outputs": [],
   "source": [
    "eng_detector_output, eng_physic_output = list(zip(s125,beta,zenith,e_loss,n_he_stoc,n_he_stoc_hi)), list(zip(mc_ene))"
   ]
  },
  {
   "cell_type": "code",
   "execution_count": 48,
   "metadata": {},
   "outputs": [],
   "source": [
    "eng_X_train, eng_X_test, eng_y_train, eng_y_test, eng_weight_train, eng_weight_test, = train_test_split(eng_detector_output, eng_physic_output,mc_weig, test_size=test_size, random_state=rdm_st)"
   ]
  },
  {
   "cell_type": "code",
   "execution_count": 49,
   "metadata": {},
   "outputs": [],
   "source": [
    "eng_regr_multi_rf = RandomForestRegressor(criterion=crit, n_estimators=num_tree, max_depth=mx_depth,random_state=rdm_st,bootstrap=boot,verbose=True,oob_score=oob,n_jobs=6)"
   ]
  },
  {
   "cell_type": "code",
   "execution_count": 50,
   "metadata": {},
   "outputs": [
    {
     "name": "stderr",
     "output_type": "stream",
     "text": [
      "<ipython-input-50-2fce794a6fc5>:1: DataConversionWarning: A column-vector y was passed when a 1d array was expected. Please change the shape of y to (n_samples,), for example using ravel().\n",
      "  eng_regr_multi_rf.fit(eng_X_train,eng_y_train)\n",
      "[Parallel(n_jobs=6)]: Using backend ThreadingBackend with 6 concurrent workers.\n",
      "[Parallel(n_jobs=6)]: Done  38 tasks      | elapsed:    1.5s\n",
      "[Parallel(n_jobs=6)]: Done 188 tasks      | elapsed:    6.9s\n",
      "[Parallel(n_jobs=6)]: Done 438 tasks      | elapsed:   16.2s\n",
      "[Parallel(n_jobs=6)]: Done 500 out of 500 | elapsed:   18.5s finished\n"
     ]
    },
    {
     "data": {
      "text/plain": [
       "RandomForestRegressor(max_depth=1000, n_estimators=500, n_jobs=6,\n",
       "                      oob_score=True, random_state=42, verbose=True)"
      ]
     },
     "execution_count": 50,
     "metadata": {},
     "output_type": "execute_result"
    }
   ],
   "source": [
    "eng_regr_multi_rf.fit(eng_X_train,eng_y_train)"
   ]
  },
  {
   "cell_type": "code",
   "execution_count": 51,
   "metadata": {},
   "outputs": [
    {
     "name": "stderr",
     "output_type": "stream",
     "text": [
      "[Parallel(n_jobs=6)]: Using backend ThreadingBackend with 6 concurrent workers.\n",
      "[Parallel(n_jobs=6)]: Done  38 tasks      | elapsed:    0.0s\n",
      "[Parallel(n_jobs=6)]: Done 188 tasks      | elapsed:    0.2s\n",
      "[Parallel(n_jobs=6)]: Done 438 tasks      | elapsed:    0.4s\n",
      "[Parallel(n_jobs=6)]: Done 500 out of 500 | elapsed:    0.5s finished\n"
     ]
    }
   ],
   "source": [
    "eng_pred = eng_regr_multi_rf.predict(eng_X_test)  \n"
   ]
  },
  {
   "cell_type": "code",
   "execution_count": 52,
   "metadata": {},
   "outputs": [
    {
     "name": "stdout",
     "output_type": "stream",
     "text": [
      "0.9836795067607061\n"
     ]
    },
    {
     "data": {
      "image/png": "[encoded data removed]",
      "text/plain": [
       "<Figure size 432x288 with 1 Axes>"
      ]
     },
     "metadata": {
      "needs_background": "light"
     },
     "output_type": "display_data"
    }
   ],
   "source": [
    "print(eng_regr_multi_rf.oob_score_)\n",
    "eng_importt = eng_regr_multi_rf.feature_importances_\n",
    "feat_names = ['s125','beta','zenith','e_loss','n_he_stoc','n_he_stoc_hi']\n",
    "feat_nums = [1,2,3,4,5,6]\n",
    "feat_namesC = ['s125','beta','C_{2}','zenith','e_loss','n_he_stoc','n_he_stoc_hi','n_he_stoc_dE']\n",
    "feat_numsC = [1,2,3,4,5,6,7,8]\n",
    "fig1, ax1 = plt.subplots(1,1)\n",
    "ax1.bar(feat_nums,eng_importt)\n",
    "plt.xticks(feat_nums, feat_names,fontsize=10)\n",
    "plt.ylabel(\"log(Feature Importance)\",fontsize=10)\n",
    "ax1.set_yscale('log')"
   ]
  },
  {
   "cell_type": "code",
   "execution_count": 53,
   "metadata": {},
   "outputs": [
    {
     "data": {
      "text/plain": [
       "['/Users/dork/Home/GithubRepo/Files/stepB_eng_rft_regressor_combo_stepA_3Dg1.pkl']"
      ]
     },
     "execution_count": 53,
     "metadata": {},
     "output_type": "execute_result"
    }
   ],
   "source": [
    "joblib.dump(eng_regr_multi_rf,file_storage+'stepB_eng_rft_regressor_combo_'+sim_type+'.pkl')"
   ]
  },
  {
   "cell_type": "code",
   "execution_count": 54,
   "metadata": {},
   "outputs": [],
   "source": [
    "mass_detector_output, mass_physic_output = list(zip(s125,beta,zenith,e_loss,n_he_stoc,n_he_stoc_hi)), list(zip(mc_mass))"
   ]
  },
  {
   "cell_type": "code",
   "execution_count": 55,
   "metadata": {},
   "outputs": [],
   "source": [
    "mass_X_train, mass_X_test, mass_y_train, mass_y_test, mass_weight_train, mass_weight_test, = train_test_split(mass_detector_output, mass_physic_output,mc_weig, test_size=test_size, random_state=rdm_st)"
   ]
  },
  {
   "cell_type": "code",
   "execution_count": 56,
   "metadata": {},
   "outputs": [],
   "source": [
    "mass_regr_multi_rf = RandomForestRegressor(criterion=crit, n_estimators=num_tree, max_depth=mx_depth,random_state=rdm_st,bootstrap=boot,verbose=True,oob_score=oob,n_jobs=6)"
   ]
  },
  {
   "cell_type": "code",
   "execution_count": 57,
   "metadata": {},
   "outputs": [
    {
     "name": "stderr",
     "output_type": "stream",
     "text": [
      "<ipython-input-57-1e029cab763d>:1: DataConversionWarning: A column-vector y was passed when a 1d array was expected. Please change the shape of y to (n_samples,), for example using ravel().\n",
      "  mass_regr_multi_rf.fit(mass_X_train,mass_y_train)\n",
      "[Parallel(n_jobs=6)]: Using backend ThreadingBackend with 6 concurrent workers.\n",
      "[Parallel(n_jobs=6)]: Done  38 tasks      | elapsed:    1.0s\n",
      "[Parallel(n_jobs=6)]: Done 188 tasks      | elapsed:    4.4s\n",
      "[Parallel(n_jobs=6)]: Done 438 tasks      | elapsed:   10.2s\n",
      "[Parallel(n_jobs=6)]: Done 500 out of 500 | elapsed:   11.5s finished\n"
     ]
    },
    {
     "data": {
      "text/plain": [
       "RandomForestRegressor(max_depth=1000, n_estimators=500, n_jobs=6,\n",
       "                      oob_score=True, random_state=42, verbose=True)"
      ]
     },
     "execution_count": 57,
     "metadata": {},
     "output_type": "execute_result"
    }
   ],
   "source": [
    "mass_regr_multi_rf.fit(mass_X_train,mass_y_train)"
   ]
  },
  {
   "cell_type": "code",
   "execution_count": 58,
   "metadata": {},
   "outputs": [
    {
     "name": "stderr",
     "output_type": "stream",
     "text": [
      "[Parallel(n_jobs=6)]: Using backend ThreadingBackend with 6 concurrent workers.\n",
      "[Parallel(n_jobs=6)]: Done  38 tasks      | elapsed:    0.0s\n",
      "[Parallel(n_jobs=6)]: Done 188 tasks      | elapsed:    0.1s\n",
      "[Parallel(n_jobs=6)]: Done 438 tasks      | elapsed:    0.2s\n",
      "[Parallel(n_jobs=6)]: Done 500 out of 500 | elapsed:    0.2s finished\n"
     ]
    }
   ],
   "source": [
    "mass_pred = mass_regr_multi_rf.predict(mass_X_test) "
   ]
  },
  {
   "cell_type": "code",
   "execution_count": 59,
   "metadata": {},
   "outputs": [
    {
     "name": "stdout",
     "output_type": "stream",
     "text": [
      "0.669053490319722\n"
     ]
    },
    {
     "data": {
      "image/png": "[encoded data removed]",
      "text/plain": [
       "<Figure size 432x288 with 1 Axes>"
      ]
     },
     "metadata": {
      "needs_background": "light"
     },
     "output_type": "display_data"
    }
   ],
   "source": [
    "print(mass_regr_multi_rf.oob_score_)\n",
    "mass_importt = mass_regr_multi_rf.feature_importances_\n",
    "feat_names = ['s125','beta','zenith','e_loss','n_he_stoc','n_he_stoc_hi']\n",
    "feat_nums = [1,2,3,4,5,6]\n",
    "feat_namesC = ['s125','beta','C_{2}','zenith','e_loss','n_he_stoc','n_he_stoc_hi','n_he_stoc_dE']\n",
    "feat_numsC = [1,2,3,4,5,6,7,8]\n",
    "fig1, ax1 = plt.subplots(1,1)\n",
    "ax1.bar(feat_nums,mass_importt)\n",
    "plt.xticks(feat_nums, feat_names,fontsize=10)\n",
    "plt.ylabel(\"log(Feature Importance)\",fontsize=10)\n",
    "ax1.set_yscale('log')"
   ]
  },
  {
   "cell_type": "code",
   "execution_count": 60,
   "metadata": {},
   "outputs": [
    {
     "data": {
      "text/plain": [
       "['/Users/dork/Home/GithubRepo/Files/stepB_mass_rft_regressor_combo_stepA_3Dg1.pkl']"
      ]
     },
     "execution_count": 60,
     "metadata": {},
     "output_type": "execute_result"
    }
   ],
   "source": [
    "joblib.dump(mass_regr_multi_rf,file_storage+'stepB_mass_rft_regressor_combo_'+sim_type+'.pkl')\n"
   ]
  },
  {
   "cell_type": "code",
   "execution_count": null,
   "metadata": {},
   "outputs": [],
   "source": []
  },
  {
   "cell_type": "code",
   "execution_count": null,
   "metadata": {},
   "outputs": [],
   "source": []
  },
  {
   "cell_type": "code",
   "execution_count": null,
   "metadata": {},
   "outputs": [],
   "source": []
  },
  {
   "cell_type": "code",
   "execution_count": 66,
   "metadata": {},
   "outputs": [],
   "source": [
    "sim_type = \"stepA_3Dg2\"\n",
    "my_itP_g2 = pickle.load( open( file_storage+sim_type+\"_ic86_goodA_p_le.pkl\", \"rb\" ) )\n",
    "my_itF_g2 = pickle.load( open( file_storage+sim_type+\"_ic86_goodA_i_le.pkl\", \"rb\" ) )"
   ]
  },
  {
   "cell_type": "code",
   "execution_count": 69,
   "metadata": {},
   "outputs": [],
   "source": [
    "s125 = my_itP_g2['II_speLLH_mpeSEEDParams_Log10_S125'].append(my_itF_g2['II_speLLH_mpeSEEDParams_Log10_S125'])\n",
    "beta = my_itP_g2['II_speLLH_mpeSEEDParams_Beta'].append(my_itF_g2['II_speLLH_mpeSEEDParams_Beta'])\n",
    "zenith = my_itP_g2['II_speLLH_mpeSEED_coszen'].append(my_itF_g2['II_speLLH_mpeSEED_coszen'])\n",
    "e_loss = my_itP_g2['good_ElossReco_II_speLLH_mpeSEEDStoch_Reco_EM_eloss_1500'].append(my_itF_g2['good_ElossReco_II_speLLH_mpeSEEDStoch_Reco_EM_eloss_1500'])\n",
    "n_he_stoc = my_itP_g2['good_ElossReco_II_speLLH_mpeSEEDStoch_Reco_EM_n_he_stoch'].append(my_itF_g2['good_ElossReco_II_speLLH_mpeSEEDStoch_Reco_EM_n_he_stoch'])\n",
    "n_he_stoc_hi = my_itP_g2['good_ElossReco_II_speLLH_mpeSEEDStoch_Reco2_EM_n_he_stoch'].append(my_itF_g2['good_ElossReco_II_speLLH_mpeSEEDStoch_Reco2_EM_n_he_stoch'])\n",
    "mc_weig = my_itP_g2['Weighting_value'].append(my_itF_g2['Weighting_value'])\n",
    "mc_ene = my_itP_g2['MCPrimary_energy']\n",
    "mc_ene = mc_ene.append(my_itF_g2['MCPrimary_energy'])\n",
    "mc_mass = (my_itP_g2['II_speLLH_mpeSEED_coszen']/my_itP_g2['II_speLLH_mpeSEED_coszen'])*1.#my_itP_g1['SimmMass']\n",
    "mc_mass = mc_mass.append((my_itF_g2['II_speLLH_mpeSEED_coszen']/my_itF_g2['II_speLLH_mpeSEED_coszen'])*56.)\n",
    "mc_weig = my_itP_g2['Weighting_value'].append(my_itF_g2['Weighting_value'])"
   ]
  },
  {
   "cell_type": "code",
   "execution_count": 70,
   "metadata": {},
   "outputs": [],
   "source": [
    "detector_output, physic_output = list(zip(s125,beta,zenith,e_loss,n_he_stoc,n_he_stoc_hi)), list(zip(mc_ene,mc_mass))"
   ]
  },
  {
   "cell_type": "code",
   "execution_count": 71,
   "metadata": {},
   "outputs": [],
   "source": [
    "X_train, X_test, y_train, y_test, weight_train, weight_test, = train_test_split(detector_output, physic_output,mc_weig, test_size=test_size, random_state=rdm_st)"
   ]
  },
  {
   "cell_type": "code",
   "execution_count": 72,
   "metadata": {},
   "outputs": [],
   "source": [
    "regr_multi_rf = RandomForestRegressor(criterion=crit, n_estimators=num_tree, max_depth=mx_depth,random_state=rdm_st,bootstrap=boot,verbose=True,oob_score=oob,n_jobs=6)"
   ]
  },
  {
   "cell_type": "code",
   "execution_count": 73,
   "metadata": {},
   "outputs": [
    {
     "name": "stderr",
     "output_type": "stream",
     "text": [
      "[Parallel(n_jobs=6)]: Using backend ThreadingBackend with 6 concurrent workers.\n",
      "[Parallel(n_jobs=6)]: Done  38 tasks      | elapsed:    1.2s\n",
      "[Parallel(n_jobs=6)]: Done 188 tasks      | elapsed:    5.5s\n",
      "[Parallel(n_jobs=6)]: Done 438 tasks      | elapsed:   13.4s\n",
      "[Parallel(n_jobs=6)]: Done 500 out of 500 | elapsed:   15.3s finished\n"
     ]
    },
    {
     "data": {
      "text/plain": [
       "RandomForestRegressor(max_depth=1000, n_estimators=500, n_jobs=6,\n",
       "                      oob_score=True, random_state=42, verbose=True)"
      ]
     },
     "execution_count": 73,
     "metadata": {},
     "output_type": "execute_result"
    }
   ],
   "source": [
    "regr_multi_rf.fit(X_train,y_train)"
   ]
  },
  {
   "cell_type": "code",
   "execution_count": 74,
   "metadata": {},
   "outputs": [
    {
     "name": "stderr",
     "output_type": "stream",
     "text": [
      "[Parallel(n_jobs=6)]: Using backend ThreadingBackend with 6 concurrent workers.\n",
      "[Parallel(n_jobs=6)]: Done  38 tasks      | elapsed:    0.0s\n",
      "[Parallel(n_jobs=6)]: Done 188 tasks      | elapsed:    0.2s\n",
      "[Parallel(n_jobs=6)]: Done 438 tasks      | elapsed:    0.3s\n",
      "[Parallel(n_jobs=6)]: Done 500 out of 500 | elapsed:    0.4s finished\n"
     ]
    }
   ],
   "source": [
    "pred = regr_multi_rf.predict(X_test)  "
   ]
  },
  {
   "cell_type": "code",
   "execution_count": 75,
   "metadata": {},
   "outputs": [
    {
     "name": "stdout",
     "output_type": "stream",
     "text": [
      "0.6877513463665769\n"
     ]
    },
    {
     "data": {
      "image/png": "[encoded data removed]",
      "text/plain": [
       "<Figure size 432x288 with 1 Axes>"
      ]
     },
     "metadata": {
      "needs_background": "light"
     },
     "output_type": "display_data"
    }
   ],
   "source": [
    "print(regr_multi_rf.oob_score_)\n",
    "importt = regr_multi_rf.feature_importances_\n",
    "feat_names = ['s125','beta','zenith','e_loss','n_he_stoc','n_he_stoc_hi']\n",
    "feat_nums = [1,2,3,4,5,6]\n",
    "feat_namesC = ['s125','beta','C_{2}','zenith','e_loss','n_he_stoc','n_he_stoc_hi','n_he_stoc_dE']\n",
    "feat_numsC = [1,2,3,4,5,6,7,8]\n",
    "fig1, ax1 = plt.subplots(1,1)\n",
    "ax1.bar(feat_nums,importt)\n",
    "plt.xticks(feat_nums, feat_names,fontsize=10)\n",
    "plt.ylabel(\"log(Feature Importance)\",fontsize=10)\n",
    "ax1.set_yscale('log')"
   ]
  },
  {
   "cell_type": "code",
   "execution_count": 76,
   "metadata": {},
   "outputs": [
    {
     "data": {
      "text/plain": [
       "['/Users/dork/Home/GithubRepo/Files/stepB_final_predX_stepA_3Dg2.pkl']"
      ]
     },
     "execution_count": 76,
     "metadata": {},
     "output_type": "execute_result"
    }
   ],
   "source": [
    "joblib.dump(regr_multi_rf,file_storage+'stepB_final_rft_regressor_combo_'+sim_type+'.pkl')\n",
    "joblib.dump(pred,file_storage+'stepB_final_predX_'+sim_type+'.pkl')"
   ]
  },
  {
   "cell_type": "code",
   "execution_count": 77,
   "metadata": {},
   "outputs": [],
   "source": [
    "eng_detector_output, eng_physic_output = list(zip(s125,beta,zenith,e_loss,n_he_stoc,n_he_stoc_hi)), list(zip(mc_ene))"
   ]
  },
  {
   "cell_type": "code",
   "execution_count": 78,
   "metadata": {},
   "outputs": [],
   "source": [
    "eng_X_train, eng_X_test, eng_y_train, eng_y_test, eng_weight_train, eng_weight_test, = train_test_split(eng_detector_output, eng_physic_output,mc_weig, test_size=test_size, random_state=rdm_st)"
   ]
  },
  {
   "cell_type": "code",
   "execution_count": 79,
   "metadata": {},
   "outputs": [],
   "source": [
    "eng_regr_multi_rf = RandomForestRegressor(criterion=crit, n_estimators=num_tree, max_depth=mx_depth,random_state=rdm_st,bootstrap=boot,verbose=True,oob_score=oob,n_jobs=6)"
   ]
  },
  {
   "cell_type": "code",
   "execution_count": 80,
   "metadata": {},
   "outputs": [
    {
     "name": "stderr",
     "output_type": "stream",
     "text": [
      "<ipython-input-80-2fce794a6fc5>:1: DataConversionWarning: A column-vector y was passed when a 1d array was expected. Please change the shape of y to (n_samples,), for example using ravel().\n",
      "  eng_regr_multi_rf.fit(eng_X_train,eng_y_train)\n",
      "[Parallel(n_jobs=6)]: Using backend ThreadingBackend with 6 concurrent workers.\n",
      "[Parallel(n_jobs=6)]: Done  38 tasks      | elapsed:    1.1s\n",
      "[Parallel(n_jobs=6)]: Done 188 tasks      | elapsed:    5.3s\n",
      "[Parallel(n_jobs=6)]: Done 438 tasks      | elapsed:   12.0s\n",
      "[Parallel(n_jobs=6)]: Done 500 out of 500 | elapsed:   13.6s finished\n"
     ]
    },
    {
     "data": {
      "text/plain": [
       "RandomForestRegressor(max_depth=1000, n_estimators=500, n_jobs=6,\n",
       "                      oob_score=True, random_state=42, verbose=True)"
      ]
     },
     "execution_count": 80,
     "metadata": {},
     "output_type": "execute_result"
    }
   ],
   "source": [
    "eng_regr_multi_rf.fit(eng_X_train,eng_y_train)"
   ]
  },
  {
   "cell_type": "code",
   "execution_count": 81,
   "metadata": {},
   "outputs": [
    {
     "name": "stderr",
     "output_type": "stream",
     "text": [
      "[Parallel(n_jobs=6)]: Using backend ThreadingBackend with 6 concurrent workers.\n",
      "[Parallel(n_jobs=6)]: Done  38 tasks      | elapsed:    0.0s\n",
      "[Parallel(n_jobs=6)]: Done 188 tasks      | elapsed:    0.2s\n",
      "[Parallel(n_jobs=6)]: Done 438 tasks      | elapsed:    0.3s\n",
      "[Parallel(n_jobs=6)]: Done 500 out of 500 | elapsed:    0.4s finished\n"
     ]
    }
   ],
   "source": [
    "eng_pred = eng_regr_multi_rf.predict(eng_X_test)  "
   ]
  },
  {
   "cell_type": "code",
   "execution_count": 82,
   "metadata": {},
   "outputs": [
    {
     "name": "stdout",
     "output_type": "stream",
     "text": [
      "0.8877031161826453\n"
     ]
    },
    {
     "data": {
      "image/png": "[encoded data removed]",
      "text/plain": [
       "<Figure size 432x288 with 1 Axes>"
      ]
     },
     "metadata": {
      "needs_background": "light"
     },
     "output_type": "display_data"
    }
   ],
   "source": [
    "print(eng_regr_multi_rf.oob_score_)\n",
    "eng_importt = eng_regr_multi_rf.feature_importances_\n",
    "feat_names = ['s125','beta','zenith','e_loss','n_he_stoc','n_he_stoc_hi']\n",
    "feat_nums = [1,2,3,4,5,6]\n",
    "feat_namesC = ['s125','beta','C_{2}','zenith','e_loss','n_he_stoc','n_he_stoc_hi','n_he_stoc_dE']\n",
    "feat_numsC = [1,2,3,4,5,6,7,8]\n",
    "fig1, ax1 = plt.subplots(1,1)\n",
    "ax1.bar(feat_nums,eng_importt)\n",
    "plt.xticks(feat_nums, feat_names,fontsize=10)\n",
    "plt.ylabel(\"log(Feature Importance)\",fontsize=10)\n",
    "ax1.set_yscale('log')"
   ]
  },
  {
   "cell_type": "code",
   "execution_count": 83,
   "metadata": {},
   "outputs": [
    {
     "data": {
      "text/plain": [
       "['/Users/dork/Home/GithubRepo/Files/stepB_eng_rft_regressor_combo_stepA_3Dg2.pkl']"
      ]
     },
     "execution_count": 83,
     "metadata": {},
     "output_type": "execute_result"
    }
   ],
   "source": [
    "joblib.dump(eng_regr_multi_rf,file_storage+'stepB_eng_rft_regressor_combo_'+sim_type+'.pkl')"
   ]
  },
  {
   "cell_type": "code",
   "execution_count": 84,
   "metadata": {},
   "outputs": [],
   "source": [
    "mass_detector_output, mass_physic_output = list(zip(s125,beta,zenith,e_loss,n_he_stoc,n_he_stoc_hi)), list(zip(mc_mass))"
   ]
  },
  {
   "cell_type": "code",
   "execution_count": 85,
   "metadata": {},
   "outputs": [],
   "source": [
    "mass_X_train, mass_X_test, mass_y_train, mass_y_test, mass_weight_train, mass_weight_test, = train_test_split(mass_detector_output, mass_physic_output,mc_weig, test_size=test_size, random_state=rdm_st)"
   ]
  },
  {
   "cell_type": "code",
   "execution_count": 86,
   "metadata": {},
   "outputs": [],
   "source": [
    "mass_regr_multi_rf = RandomForestRegressor(criterion=crit, n_estimators=num_tree, max_depth=mx_depth,random_state=rdm_st,bootstrap=boot,verbose=True,oob_score=oob,n_jobs=6)"
   ]
  },
  {
   "cell_type": "code",
   "execution_count": 87,
   "metadata": {},
   "outputs": [
    {
     "name": "stderr",
     "output_type": "stream",
     "text": [
      "<ipython-input-87-1e029cab763d>:1: DataConversionWarning: A column-vector y was passed when a 1d array was expected. Please change the shape of y to (n_samples,), for example using ravel().\n",
      "  mass_regr_multi_rf.fit(mass_X_train,mass_y_train)\n",
      "[Parallel(n_jobs=6)]: Using backend ThreadingBackend with 6 concurrent workers.\n",
      "[Parallel(n_jobs=6)]: Done  38 tasks      | elapsed:    0.8s\n",
      "[Parallel(n_jobs=6)]: Done 188 tasks      | elapsed:    3.8s\n",
      "[Parallel(n_jobs=6)]: Done 438 tasks      | elapsed:    8.8s\n",
      "[Parallel(n_jobs=6)]: Done 500 out of 500 | elapsed:   10.0s finished\n"
     ]
    },
    {
     "data": {
      "text/plain": [
       "RandomForestRegressor(max_depth=1000, n_estimators=500, n_jobs=6,\n",
       "                      oob_score=True, random_state=42, verbose=True)"
      ]
     },
     "execution_count": 87,
     "metadata": {},
     "output_type": "execute_result"
    }
   ],
   "source": [
    "mass_regr_multi_rf.fit(mass_X_train,mass_y_train)"
   ]
  },
  {
   "cell_type": "code",
   "execution_count": 88,
   "metadata": {},
   "outputs": [
    {
     "name": "stderr",
     "output_type": "stream",
     "text": [
      "[Parallel(n_jobs=6)]: Using backend ThreadingBackend with 6 concurrent workers.\n",
      "[Parallel(n_jobs=6)]: Done  38 tasks      | elapsed:    0.0s\n",
      "[Parallel(n_jobs=6)]: Done 188 tasks      | elapsed:    0.1s\n",
      "[Parallel(n_jobs=6)]: Done 438 tasks      | elapsed:    0.2s\n",
      "[Parallel(n_jobs=6)]: Done 500 out of 500 | elapsed:    0.2s finished\n"
     ]
    }
   ],
   "source": [
    "mass_pred = mass_regr_multi_rf.predict(mass_X_test) "
   ]
  },
  {
   "cell_type": "code",
   "execution_count": 89,
   "metadata": {},
   "outputs": [
    {
     "name": "stdout",
     "output_type": "stream",
     "text": [
      "0.49786559979590284\n"
     ]
    },
    {
     "data": {
      "image/png": "[encoded data removed]",
      "text/plain": [
       "<Figure size 432x288 with 1 Axes>"
      ]
     },
     "metadata": {
      "needs_background": "light"
     },
     "output_type": "display_data"
    }
   ],
   "source": [
    "print(mass_regr_multi_rf.oob_score_)\n",
    "mass_importt = mass_regr_multi_rf.feature_importances_\n",
    "feat_names = ['s125','beta','zenith','e_loss','n_he_stoc','n_he_stoc_hi']\n",
    "feat_nums = [1,2,3,4,5,6]\n",
    "feat_namesC = ['s125','beta','C_{2}','zenith','e_loss','n_he_stoc','n_he_stoc_hi','n_he_stoc_dE']\n",
    "feat_numsC = [1,2,3,4,5,6,7,8]\n",
    "fig1, ax1 = plt.subplots(1,1)\n",
    "ax1.bar(feat_nums,mass_importt)\n",
    "plt.xticks(feat_nums, feat_names,fontsize=10)\n",
    "plt.ylabel(\"log(Feature Importance)\",fontsize=10)\n",
    "ax1.set_yscale('log')"
   ]
  },
  {
   "cell_type": "code",
   "execution_count": 90,
   "metadata": {},
   "outputs": [
    {
     "data": {
      "text/plain": [
       "['/Users/dork/Home/GithubRepo/Files/stepB_mass_rft_regressor_combo_stepA_3Dg2.pkl']"
      ]
     },
     "execution_count": 90,
     "metadata": {},
     "output_type": "execute_result"
    }
   ],
   "source": [
    "joblib.dump(mass_regr_multi_rf,file_storage+'stepB_mass_rft_regressor_combo_'+sim_type+'.pkl')\n"
   ]
  },
  {
   "cell_type": "code",
   "execution_count": null,
   "metadata": {},
   "outputs": [],
   "source": []
  }
 ],
 "metadata": {
  "kernelspec": {
   "display_name": "Python 3",
   "language": "python",
   "name": "python3"
  },
  "language_info": {
   "codemirror_mode": {
    "name": "ipython",
    "version": 3
   },
   "file_extension": ".py",
   "mimetype": "text/x-python",
   "name": "python",
   "nbconvert_exporter": "python",
   "pygments_lexer": "ipython3",
   "version": "3.9.1"
  }
 },
 "nbformat": 4,
 "nbformat_minor": 2
}
