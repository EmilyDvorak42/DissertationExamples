{
 "cells": [
  {
   "cell_type": "code",
   "execution_count": 1,
   "metadata": {},
   "outputs": [],
   "source": [
    "# Rename me from DataApplication to iPythonExample_stepC\n",
    "workarea = \"/Users/dork/Home/GithubRepo/\"\n",
    "file_storage = workarea+\"Files/\""
   ]
  },
  {
   "cell_type": "code",
   "execution_count": 2,
   "metadata": {},
   "outputs": [],
   "source": [
    "import numpy as np\n",
    "import matplotlib\n",
    "import matplotlib.pyplot as plt\n",
    "from matplotlib.colors import LogNorm\n",
    "\n",
    "import pandas as pd\n",
    "from sklearn.ensemble import ExtraTreesRegressor, RandomForestRegressor\n",
    "from sklearn.multioutput import MultiOutputRegressor,MultiOutputClassifier\n",
    "from sklearn.model_selection import train_test_split\n",
    "#from sklearn.neighbors.kde import KernelDensity\n",
    "import joblib\n",
    "from sklearn.preprocessing import StandardScaler\n",
    "\n",
    "from sklearn.metrics import r2_score\n",
    "from scipy.stats import pearsonr\n",
    "\n",
    "from sklearn import datasets\n",
    "from sklearn.model_selection  import GridSearchCV\n",
    "\n",
    "import tables\n",
    "import pylab as pl\n",
    "\n",
    "import math\n",
    "\n",
    "import pickle\n",
    "\n",
    "import EmilysTools\n",
    "from EmilysTools import Grabber, DataGrabber, llh_check, PassedG1Cuts, PassedDataG1Cuts"
   ]
  },
  {
   "cell_type": "code",
   "execution_count": 3,
   "metadata": {},
   "outputs": [],
   "source": [
    "matplotlib.rc('font', size=24)\n",
    "combo_number = 1\n",
    "num_tree = 1000\n",
    "test_size = 0.33\n",
    "mx_depth = 1000\n",
    "crit = 'mse'\n",
    "boot = True\n",
    "rdm_st = 42\n",
    "oob = True\n",
    "num_trees = [50,100,500,1000,1500,2000,2500,3000,3500]\n",
    "\n",
    "mass = [1,56]\n",
    "primary_label=['H','Fe']\n",
    "color =['r','b']\n",
    "feat_names = [r'$S_{ref}$',r'$\\beta$',r'$cos(\\theta)$',r'$\\frac{dE}{dX}$',r'$NHE_{std}$',r'$NHE_{strong}$']\n",
    "feat_nums = [1,2,3,4,5,6]\n",
    "feat_namesC = [r'$S_{ref}$',r'$\\beta$',r'$C_{2}$',r'$cos(\\theta)$',r'$\\frac{dE}{dX}$',r'$NHE_{std}$',r'$NHE_{strong}$',r'$NHE_{\\delta E}$']\n",
    "feat_numsC = [1,2,3,4,5,6,7,8]\n",
    "cl_names = ['Ene']\n",
    "#cl_names = ['Ene','Mas']\n"
   ]
  },
  {
   "cell_type": "code",
   "execution_count": 4,
   "metadata": {},
   "outputs": [],
   "source": [
    "OG_regr_multi_rf = joblib.load(file_storage+'stepB_final_rft_regressor_combo_stepA_OGall.pkl')"
   ]
  },
  {
   "cell_type": "code",
   "execution_count": 5,
   "metadata": {},
   "outputs": [],
   "source": [
    "og_data = pickle.load( open( file_storage+\"stepA_OGall_2013_recoA1a.pkl\", \"rb\" ) )"
   ]
  },
  {
   "cell_type": "code",
   "execution_count": 6,
   "metadata": {},
   "outputs": [
    {
     "name": "stdout",
     "output_type": "stream",
     "text": [
      "good_ElossReco_IT_mpeLLH_itSEEDMilliNCascAbove2\n",
      "good_ElossReco_IT_mpeLLH_itSEEDMilliQtotRatio\n",
      "good_ElossReco_IT_mpeLLH_itSEEDMilliRloglBelow2\n",
      "good_ElossReco_IT_mpeLLH_itSEEDStochRecoSucceeded\n",
      "good_ElossReco_II_speLLH_mpeSEEDMilliNCascAbove2\n",
      "good_ElossReco_II_speLLH_mpeSEEDMilliQtotRatio\n",
      "good_ElossReco_II_speLLH_mpeSEEDMilliRloglBelow2\n",
      "good_ElossReco_II_speLLH_mpeSEEDStochRecoSucceeded\n",
      "BetaCutPassed\n",
      "IceTopMaxSignalAbove6\n",
      "IceTopMaxSignalInside\n",
      "IceTopNeighbourMaxSignalAbove4\n",
      "IceTop_StandardFilter\n",
      "IceTop_reco_succeeded\n",
      "Laputop_FractionContainment\n",
      "StationDensity_passed\n",
      "MilliNCascAbove2\n",
      "MilliQtotRatio\n",
      "MilliRloglBelow2\n",
      "NCh_CoincLaputopCleanedPulsesAbove7\n",
      "StochRecoSucceeded\n",
      "IT_mpeLLH_itSEED_x\n",
      "IT_mpeLLH_itSEED_y\n",
      "IT_mpeLLH_itSEED_z\n",
      "IT_mpeLLH_itSEED_time\n",
      "IT_mpeLLH_itSEED_zenith\n",
      "IT_mpeLLH_itSEED_azimuth\n",
      "IT_mpeLLH_itSEED_energy\n",
      "IT_mpeLLH_itSEED_speed\n",
      "IT_mpeLLH_itSEED_length\n",
      "IT_mpeLLH_itSEED_pdg_encoding\n",
      "IT_mpeLLH_itSEED_type\n",
      "IT_mpeLLH_itSEED_shape\n",
      "IT_mpeLLH_itSEED_location\n",
      "IT_mpeLLH_itSEED_fit_status\n",
      "IT_mpeLLH_itSEEDParams_Log10_S125\n",
      "IT_mpeLLH_itSEEDParams_Beta\n",
      "IT_mpeLLH_itSEEDParams_RhoMu\n",
      "IT_mpeLLH_itSEEDParams_Chi2_ldf\n",
      "IT_mpeLLH_itSEEDParams_ndof_ldf\n",
      "IT_mpeLLH_itSEEDParams_r_ref\n",
      "IT_mpeLLH_itSEEDParams_Moliere\n",
      "IT_mpeLLH_itSEEDParams_r_mu_ref\n",
      "IT_mpeLLH_itSEEDParams_llh_ldf\n",
      "IT_mpeLLH_itSEEDParams_LDFtype\n",
      "IT_mpeLLH_itSEEDParams_gamma\n",
      "IT_mpeLLH_itSEEDParams_omega\n",
      "IT_mpeLLH_itSEEDParams_Amp\n",
      "IT_mpeLLH_itSEEDParams_Chi2_time\n",
      "IT_mpeLLH_itSEEDParams_ndof_time\n",
      "IT_mpeLLH_itSEEDParams_llh_time\n",
      "IT_mpeLLH_itSEEDParams_NX\n",
      "IT_mpeLLH_itSEEDParams_NY\n",
      "IT_mpeLLH_itSEEDParams_Kappa\n",
      "IT_mpeLLH_itSEEDParams_Dcurve\n",
      "IT_mpeLLH_itSEEDParams_Ncurve\n",
      "IT_mpeLLH_itSEEDParams_ndof\n",
      "II_speLLH_mpeSEED_x\n",
      "II_speLLH_mpeSEED_y\n",
      "II_speLLH_mpeSEED_z\n",
      "II_speLLH_mpeSEED_time\n",
      "II_speLLH_mpeSEED_zenith\n",
      "II_speLLH_mpeSEED_azimuth\n",
      "II_speLLH_mpeSEED_energy\n",
      "II_speLLH_mpeSEED_speed\n",
      "II_speLLH_mpeSEED_length\n",
      "II_speLLH_mpeSEED_pdg_encoding\n",
      "II_speLLH_mpeSEED_type\n",
      "II_speLLH_mpeSEED_shape\n",
      "II_speLLH_mpeSEED_location\n",
      "II_speLLH_mpeSEED_fit_status\n",
      "II_speLLH_mpeSEEDParams_Log10_S125\n",
      "II_speLLH_mpeSEEDParams_Beta\n",
      "II_speLLH_mpeSEEDParams_RhoMu\n",
      "II_speLLH_mpeSEEDParams_Chi2_ldf\n",
      "II_speLLH_mpeSEEDParams_ndof_ldf\n",
      "II_speLLH_mpeSEEDParams_r_ref\n",
      "II_speLLH_mpeSEEDParams_Moliere\n",
      "II_speLLH_mpeSEEDParams_r_mu_ref\n",
      "II_speLLH_mpeSEEDParams_llh_ldf\n",
      "II_speLLH_mpeSEEDParams_LDFtype\n",
      "II_speLLH_mpeSEEDParams_gamma\n",
      "II_speLLH_mpeSEEDParams_omega\n",
      "II_speLLH_mpeSEEDParams_Amp\n",
      "II_speLLH_mpeSEEDParams_Chi2_time\n",
      "II_speLLH_mpeSEEDParams_ndof_time\n",
      "II_speLLH_mpeSEEDParams_llh_time\n",
      "II_speLLH_mpeSEEDParams_NX\n",
      "II_speLLH_mpeSEEDParams_NY\n",
      "II_speLLH_mpeSEEDParams_Kappa\n",
      "II_speLLH_mpeSEEDParams_Dcurve\n",
      "II_speLLH_mpeSEEDParams_Ncurve\n",
      "II_speLLH_mpeSEEDParams_ndof\n",
      "Laputop_x\n",
      "Laputop_y\n",
      "Laputop_z\n",
      "Laputop_time\n",
      "Laputop_zenith\n",
      "Laputop_azimuth\n",
      "Laputop_energy\n",
      "Laputop_speed\n",
      "Laputop_length\n",
      "Laputop_pdg_encoding\n",
      "Laputop_type\n",
      "Laputop_shape\n",
      "Laputop_location\n",
      "Laputop_fit_status\n",
      "LaputopParams_s125\n",
      "LaputopParams_beta\n",
      "LaputopParams_age\n",
      "LaputopParams_A\n",
      "LaputopParams_D\n",
      "LaputopParams_N\n",
      "LaputopParams_xc_err\n",
      "LaputopParams_yc_err\n",
      "LaputopParams_ny_err\n",
      "LaputopParams_nx_err\n",
      "LaputopParams_tc_err\n",
      "LaputopParams_log10_s125_err\n",
      "LaputopParams_beta_err\n",
      "LaputopParams_A_err\n",
      "LaputopParams_D_err\n",
      "LaputopParams_N_err\n",
      "LaputopParams_s50\n",
      "LaputopParams_s70\n",
      "LaputopParams_s80\n",
      "LaputopParams_s100\n",
      "LaputopParams_s150\n",
      "LaputopParams_s180\n",
      "LaputopParams_s250\n",
      "LaputopParams_s500\n",
      "LaputopParams_e_proton\n",
      "LaputopParams_e_iron\n",
      "LaputopParams_e_h4a\n",
      "LaputopParams_llh\n",
      "LaputopParams_llh_silent\n",
      "LaputopParams_chi2\n",
      "LaputopParams_chi2_time\n",
      "LaputopParams_ndf\n",
      "LaputopParams_rlogl\n",
      "LaputopParams_nmini\n",
      "CoincMuonReco_SPEFit2_x\n",
      "CoincMuonReco_SPEFit2_y\n",
      "CoincMuonReco_SPEFit2_z\n",
      "CoincMuonReco_SPEFit2_time\n",
      "CoincMuonReco_SPEFit2_zenith\n",
      "CoincMuonReco_SPEFit2_azimuth\n",
      "CoincMuonReco_SPEFit2_energy\n",
      "CoincMuonReco_SPEFit2_speed\n",
      "CoincMuonReco_SPEFit2_length\n",
      "CoincMuonReco_SPEFit2_pdg_encoding\n",
      "CoincMuonReco_SPEFit2_type\n",
      "CoincMuonReco_SPEFit2_shape\n",
      "CoincMuonReco_SPEFit2_location\n",
      "CoincMuonReco_SPEFit2_fit_status\n",
      "CoincMuonReco_MPEFit_x\n",
      "CoincMuonReco_MPEFit_y\n",
      "CoincMuonReco_MPEFit_z\n",
      "CoincMuonReco_MPEFit_time\n",
      "CoincMuonReco_MPEFit_zenith\n",
      "CoincMuonReco_MPEFit_azimuth\n",
      "CoincMuonReco_MPEFit_energy\n",
      "CoincMuonReco_MPEFit_speed\n",
      "CoincMuonReco_MPEFit_length\n",
      "CoincMuonReco_MPEFit_pdg_encoding\n",
      "CoincMuonReco_MPEFit_type\n",
      "CoincMuonReco_MPEFit_shape\n",
      "CoincMuonReco_MPEFit_location\n",
      "CoincMuonReco_MPEFit_fit_status\n",
      "Laputop_IT_Cont_value\n",
      "CoincMuonReco_MPEFit_II_Cont_value\n",
      "Good_COMBO_IT_value\n",
      "Good_COMBO_II_value\n",
      "Good_Laputop_value\n",
      "Good_MPE_value\n",
      "Stoch_Reco_eloss_1000\n",
      "Stoch_Reco_eloss_1500\n",
      "Stoch_Reco_eloss_1600\n",
      "Stoch_Reco_eloss_1700\n",
      "Stoch_Reco_eloss_1800\n",
      "Stoch_Reco_eloss_1900\n",
      "Stoch_Reco_eloss_2000\n",
      "Stoch_Reco_eloss_2100\n",
      "Stoch_Reco_eloss_2200\n",
      "Stoch_Reco_eloss_2300\n",
      "Stoch_Reco_eloss_2400\n",
      "Stoch_Reco_eloss_3000\n",
      "Stoch_Reco_a_estim\n",
      "Stoch_Reco_a_estim_err\n",
      "Stoch_Reco_e0_estim\n",
      "Stoch_Reco_e0_estim_err\n",
      "Stoch_Reco_stoch_energy\n",
      "Stoch_Reco_rel_stoch_energy\n",
      "Stoch_Reco_total_stoch_energy\n",
      "Stoch_Reco_total_rel_stoch_energy\n",
      "Stoch_Reco_highest_stoch_energy\n",
      "Stoch_Reco_highest_rel_stoch_energy\n",
      "Stoch_Reco_chi2\n",
      "Stoch_Reco_chi2_red\n",
      "Stoch_Reco_stoch_depth\n",
      "Stoch_Reco_n_he_stoch\n",
      "Stoch_Reco_fit_status\n",
      "Stoch_Reco2_eloss_1000\n",
      "Stoch_Reco2_eloss_1500\n",
      "Stoch_Reco2_eloss_1600\n",
      "Stoch_Reco2_eloss_1700\n",
      "Stoch_Reco2_eloss_1800\n",
      "Stoch_Reco2_eloss_1900\n",
      "Stoch_Reco2_eloss_2000\n",
      "Stoch_Reco2_eloss_2100\n",
      "Stoch_Reco2_eloss_2200\n",
      "Stoch_Reco2_eloss_2300\n",
      "Stoch_Reco2_eloss_2400\n",
      "Stoch_Reco2_eloss_3000\n",
      "Stoch_Reco2_a_estim\n",
      "Stoch_Reco2_a_estim_err\n",
      "Stoch_Reco2_e0_estim\n",
      "Stoch_Reco2_e0_estim_err\n",
      "Stoch_Reco2_stoch_energy\n",
      "Stoch_Reco2_rel_stoch_energy\n",
      "Stoch_Reco2_total_stoch_energy\n",
      "Stoch_Reco2_total_rel_stoch_energy\n",
      "Stoch_Reco2_highest_stoch_energy\n",
      "Stoch_Reco2_highest_rel_stoch_energy\n",
      "Stoch_Reco2_chi2\n",
      "Stoch_Reco2_chi2_red\n",
      "Stoch_Reco2_stoch_depth\n",
      "Stoch_Reco2_n_he_stoch\n",
      "Stoch_Reco2_fit_status\n",
      "good_ElossReco_IT_mpeLLH_itSEEDStoch_Reco_EM_eloss_1000\n",
      "good_ElossReco_IT_mpeLLH_itSEEDStoch_Reco_EM_eloss_1500\n",
      "good_ElossReco_IT_mpeLLH_itSEEDStoch_Reco_EM_eloss_1600\n",
      "good_ElossReco_IT_mpeLLH_itSEEDStoch_Reco_EM_eloss_1700\n",
      "good_ElossReco_IT_mpeLLH_itSEEDStoch_Reco_EM_eloss_1800\n",
      "good_ElossReco_IT_mpeLLH_itSEEDStoch_Reco_EM_eloss_1900\n",
      "good_ElossReco_IT_mpeLLH_itSEEDStoch_Reco_EM_eloss_2000\n",
      "good_ElossReco_IT_mpeLLH_itSEEDStoch_Reco_EM_eloss_2100\n",
      "good_ElossReco_IT_mpeLLH_itSEEDStoch_Reco_EM_eloss_2200\n",
      "good_ElossReco_IT_mpeLLH_itSEEDStoch_Reco_EM_eloss_2300\n",
      "good_ElossReco_IT_mpeLLH_itSEEDStoch_Reco_EM_eloss_2400\n",
      "good_ElossReco_IT_mpeLLH_itSEEDStoch_Reco_EM_eloss_3000\n",
      "good_ElossReco_IT_mpeLLH_itSEEDStoch_Reco_EM_a_estim\n",
      "good_ElossReco_IT_mpeLLH_itSEEDStoch_Reco_EM_a_estim_err\n",
      "good_ElossReco_IT_mpeLLH_itSEEDStoch_Reco_EM_e0_estim\n",
      "good_ElossReco_IT_mpeLLH_itSEEDStoch_Reco_EM_e0_estim_err\n",
      "good_ElossReco_IT_mpeLLH_itSEEDStoch_Reco_EM_stoch_energy\n",
      "good_ElossReco_IT_mpeLLH_itSEEDStoch_Reco_EM_rel_stoch_energy\n",
      "good_ElossReco_IT_mpeLLH_itSEEDStoch_Reco_EM_total_stoch_energy\n",
      "good_ElossReco_IT_mpeLLH_itSEEDStoch_Reco_EM_total_rel_stoch_energy\n",
      "good_ElossReco_IT_mpeLLH_itSEEDStoch_Reco_EM_highest_stoch_energy\n",
      "good_ElossReco_IT_mpeLLH_itSEEDStoch_Reco_EM_highest_rel_stoch_energy\n",
      "good_ElossReco_IT_mpeLLH_itSEEDStoch_Reco_EM_chi2\n",
      "good_ElossReco_IT_mpeLLH_itSEEDStoch_Reco_EM_chi2_red\n",
      "good_ElossReco_IT_mpeLLH_itSEEDStoch_Reco_EM_stoch_depth\n",
      "good_ElossReco_IT_mpeLLH_itSEEDStoch_Reco_EM_n_he_stoch\n",
      "good_ElossReco_IT_mpeLLH_itSEEDStoch_Reco_EM_fit_status\n",
      "good_ElossReco_II_speLLH_mpeSEEDStoch_Reco_EM_eloss_1000\n",
      "good_ElossReco_II_speLLH_mpeSEEDStoch_Reco_EM_eloss_1500\n",
      "good_ElossReco_II_speLLH_mpeSEEDStoch_Reco_EM_eloss_1600\n",
      "good_ElossReco_II_speLLH_mpeSEEDStoch_Reco_EM_eloss_1700\n",
      "good_ElossReco_II_speLLH_mpeSEEDStoch_Reco_EM_eloss_1800\n",
      "good_ElossReco_II_speLLH_mpeSEEDStoch_Reco_EM_eloss_1900\n",
      "good_ElossReco_II_speLLH_mpeSEEDStoch_Reco_EM_eloss_2000\n",
      "good_ElossReco_II_speLLH_mpeSEEDStoch_Reco_EM_eloss_2100\n",
      "good_ElossReco_II_speLLH_mpeSEEDStoch_Reco_EM_eloss_2200\n",
      "good_ElossReco_II_speLLH_mpeSEEDStoch_Reco_EM_eloss_2300\n",
      "good_ElossReco_II_speLLH_mpeSEEDStoch_Reco_EM_eloss_2400\n",
      "good_ElossReco_II_speLLH_mpeSEEDStoch_Reco_EM_eloss_3000\n",
      "good_ElossReco_II_speLLH_mpeSEEDStoch_Reco_EM_a_estim\n",
      "good_ElossReco_II_speLLH_mpeSEEDStoch_Reco_EM_a_estim_err\n",
      "good_ElossReco_II_speLLH_mpeSEEDStoch_Reco_EM_e0_estim\n",
      "good_ElossReco_II_speLLH_mpeSEEDStoch_Reco_EM_e0_estim_err\n",
      "good_ElossReco_II_speLLH_mpeSEEDStoch_Reco_EM_stoch_energy\n",
      "good_ElossReco_II_speLLH_mpeSEEDStoch_Reco_EM_rel_stoch_energy\n",
      "good_ElossReco_II_speLLH_mpeSEEDStoch_Reco_EM_total_stoch_energy\n",
      "good_ElossReco_II_speLLH_mpeSEEDStoch_Reco_EM_total_rel_stoch_energy\n",
      "good_ElossReco_II_speLLH_mpeSEEDStoch_Reco_EM_highest_stoch_energy\n",
      "good_ElossReco_II_speLLH_mpeSEEDStoch_Reco_EM_highest_rel_stoch_energy\n",
      "good_ElossReco_II_speLLH_mpeSEEDStoch_Reco_EM_chi2\n",
      "good_ElossReco_II_speLLH_mpeSEEDStoch_Reco_EM_chi2_red\n",
      "good_ElossReco_II_speLLH_mpeSEEDStoch_Reco_EM_stoch_depth\n",
      "good_ElossReco_II_speLLH_mpeSEEDStoch_Reco_EM_n_he_stoch\n",
      "good_ElossReco_II_speLLH_mpeSEEDStoch_Reco_EM_fit_status\n",
      "good_ElossReco_IT_mpeLLH_itSEEDStoch_Reco2_EM_eloss_1000\n",
      "good_ElossReco_IT_mpeLLH_itSEEDStoch_Reco2_EM_eloss_1500\n",
      "good_ElossReco_IT_mpeLLH_itSEEDStoch_Reco2_EM_eloss_1600\n",
      "good_ElossReco_IT_mpeLLH_itSEEDStoch_Reco2_EM_eloss_1700\n",
      "good_ElossReco_IT_mpeLLH_itSEEDStoch_Reco2_EM_eloss_1800\n",
      "good_ElossReco_IT_mpeLLH_itSEEDStoch_Reco2_EM_eloss_1900\n",
      "good_ElossReco_IT_mpeLLH_itSEEDStoch_Reco2_EM_eloss_2000\n",
      "good_ElossReco_IT_mpeLLH_itSEEDStoch_Reco2_EM_eloss_2100\n",
      "good_ElossReco_IT_mpeLLH_itSEEDStoch_Reco2_EM_eloss_2200\n",
      "good_ElossReco_IT_mpeLLH_itSEEDStoch_Reco2_EM_eloss_2300\n",
      "good_ElossReco_IT_mpeLLH_itSEEDStoch_Reco2_EM_eloss_2400\n",
      "good_ElossReco_IT_mpeLLH_itSEEDStoch_Reco2_EM_eloss_3000\n",
      "good_ElossReco_IT_mpeLLH_itSEEDStoch_Reco2_EM_a_estim\n",
      "good_ElossReco_IT_mpeLLH_itSEEDStoch_Reco2_EM_a_estim_err\n",
      "good_ElossReco_IT_mpeLLH_itSEEDStoch_Reco2_EM_e0_estim\n",
      "good_ElossReco_IT_mpeLLH_itSEEDStoch_Reco2_EM_e0_estim_err\n",
      "good_ElossReco_IT_mpeLLH_itSEEDStoch_Reco2_EM_stoch_energy\n",
      "good_ElossReco_IT_mpeLLH_itSEEDStoch_Reco2_EM_rel_stoch_energy\n",
      "good_ElossReco_IT_mpeLLH_itSEEDStoch_Reco2_EM_total_stoch_energy\n",
      "good_ElossReco_IT_mpeLLH_itSEEDStoch_Reco2_EM_total_rel_stoch_energy\n",
      "good_ElossReco_IT_mpeLLH_itSEEDStoch_Reco2_EM_highest_stoch_energy\n",
      "good_ElossReco_IT_mpeLLH_itSEEDStoch_Reco2_EM_highest_rel_stoch_energy\n",
      "good_ElossReco_IT_mpeLLH_itSEEDStoch_Reco2_EM_chi2\n",
      "good_ElossReco_IT_mpeLLH_itSEEDStoch_Reco2_EM_chi2_red\n",
      "good_ElossReco_IT_mpeLLH_itSEEDStoch_Reco2_EM_stoch_depth\n",
      "good_ElossReco_IT_mpeLLH_itSEEDStoch_Reco2_EM_n_he_stoch\n",
      "good_ElossReco_IT_mpeLLH_itSEEDStoch_Reco2_EM_fit_status\n",
      "good_ElossReco_II_speLLH_mpeSEEDStoch_Reco2_EM_eloss_1000\n",
      "good_ElossReco_II_speLLH_mpeSEEDStoch_Reco2_EM_eloss_1500\n",
      "good_ElossReco_II_speLLH_mpeSEEDStoch_Reco2_EM_eloss_1600\n",
      "good_ElossReco_II_speLLH_mpeSEEDStoch_Reco2_EM_eloss_1700\n",
      "good_ElossReco_II_speLLH_mpeSEEDStoch_Reco2_EM_eloss_1800\n",
      "good_ElossReco_II_speLLH_mpeSEEDStoch_Reco2_EM_eloss_1900\n",
      "good_ElossReco_II_speLLH_mpeSEEDStoch_Reco2_EM_eloss_2000\n",
      "good_ElossReco_II_speLLH_mpeSEEDStoch_Reco2_EM_eloss_2100\n",
      "good_ElossReco_II_speLLH_mpeSEEDStoch_Reco2_EM_eloss_2200\n",
      "good_ElossReco_II_speLLH_mpeSEEDStoch_Reco2_EM_eloss_2300\n",
      "good_ElossReco_II_speLLH_mpeSEEDStoch_Reco2_EM_eloss_2400\n",
      "good_ElossReco_II_speLLH_mpeSEEDStoch_Reco2_EM_eloss_3000\n",
      "good_ElossReco_II_speLLH_mpeSEEDStoch_Reco2_EM_a_estim\n",
      "good_ElossReco_II_speLLH_mpeSEEDStoch_Reco2_EM_a_estim_err\n",
      "good_ElossReco_II_speLLH_mpeSEEDStoch_Reco2_EM_e0_estim\n",
      "good_ElossReco_II_speLLH_mpeSEEDStoch_Reco2_EM_e0_estim_err\n",
      "good_ElossReco_II_speLLH_mpeSEEDStoch_Reco2_EM_stoch_energy\n",
      "good_ElossReco_II_speLLH_mpeSEEDStoch_Reco2_EM_rel_stoch_energy\n",
      "good_ElossReco_II_speLLH_mpeSEEDStoch_Reco2_EM_total_stoch_energy\n",
      "good_ElossReco_II_speLLH_mpeSEEDStoch_Reco2_EM_total_rel_stoch_energy\n",
      "good_ElossReco_II_speLLH_mpeSEEDStoch_Reco2_EM_highest_stoch_energy\n",
      "good_ElossReco_II_speLLH_mpeSEEDStoch_Reco2_EM_highest_rel_stoch_energy\n",
      "good_ElossReco_II_speLLH_mpeSEEDStoch_Reco2_EM_chi2\n",
      "good_ElossReco_II_speLLH_mpeSEEDStoch_Reco2_EM_chi2_red\n",
      "good_ElossReco_II_speLLH_mpeSEEDStoch_Reco2_EM_stoch_depth\n",
      "good_ElossReco_II_speLLH_mpeSEEDStoch_Reco2_EM_n_he_stoch\n",
      "good_ElossReco_II_speLLH_mpeSEEDStoch_Reco2_EM_fit_status\n",
      "G1newStoch_value\n",
      "G2newStoch_value\n",
      "G2diff_value\n",
      "Laputop_coszen\n"
     ]
    }
   ],
   "source": [
    "for key in og_data.keys():\n",
    "    print(key)"
   ]
  },
  {
   "cell_type": "code",
   "execution_count": 7,
   "metadata": {},
   "outputs": [],
   "source": [
    "s125 = np.log10(og_data['LaputopParams_s125'])#.append(np.log10(og_data['LaputopParams_s125']))\n",
    "beta = og_data['LaputopParams_beta']#.append(og_data['LaputopParams_beta'])\n",
    "zenith = og_data['Laputop_coszen']#.append(og_data['Laputop_coszen'])\n",
    "e_loss = og_data['Stoch_Reco_eloss_1500']#.append(og_data['Stoch_Reco_eloss_1500'])\n",
    "n_he_stoc = og_data['Stoch_Reco_n_he_stoch']#.append(og_data['Stoch_Reco_n_he_stoch'])\n",
    "n_he_stoc_hi = og_data['Stoch_Reco2_n_he_stoch']#.append(og_data['Stoch_Reco2_n_he_stoch'])\n",
    "detector_output = list(zip(s125,beta,zenith,e_loss,n_he_stoc,n_he_stoc_hi))"
   ]
  },
  {
   "cell_type": "code",
   "execution_count": 8,
   "metadata": {},
   "outputs": [
    {
     "name": "stderr",
     "output_type": "stream",
     "text": [
      "IOPub data rate exceeded.\n",
      "The notebook server will temporarily stop sending output\n",
      "to the client in order to avoid crashing it.\n",
      "To change this limit, set the config variable\n",
      "`--NotebookApp.iopub_data_rate_limit`.\n",
      "\n",
      "Current values:\n",
      "NotebookApp.iopub_data_rate_limit=1000000.0 (bytes/sec)\n",
      "NotebookApp.rate_limit_window=3.0 (secs)\n",
      "\n"
     ]
    }
   ],
   "source": [
    "print(detector_output)"
   ]
  },
  {
   "cell_type": "code",
   "execution_count": 9,
   "metadata": {},
   "outputs": [
    {
     "name": "stderr",
     "output_type": "stream",
     "text": [
      "[Parallel(n_jobs=6)]: Using backend ThreadingBackend with 6 concurrent workers.\n",
      "[Parallel(n_jobs=6)]: Done  38 tasks      | elapsed:    0.5s\n",
      "[Parallel(n_jobs=6)]: Done 188 tasks      | elapsed:    2.2s\n",
      "[Parallel(n_jobs=6)]: Done 438 tasks      | elapsed:    5.3s\n",
      "[Parallel(n_jobs=6)]: Done 500 out of 500 | elapsed:    5.8s finished\n"
     ]
    }
   ],
   "source": [
    "og_pred = OG_regr_multi_rf.predict(detector_output)"
   ]
  },
  {
   "cell_type": "code",
   "execution_count": 10,
   "metadata": {},
   "outputs": [
    {
     "name": "stdout",
     "output_type": "stream",
     "text": [
      "101585\n"
     ]
    },
    {
     "data": {
      "image/png": "[encoded data removed]",
      "text/plain": [
       "<Figure size 432x288 with 1 Axes>"
      ]
     },
     "metadata": {
      "needs_background": "light"
     },
     "output_type": "display_data"
    },
    {
     "data": {
      "image/png": "[encoded data removed]",
      "text/plain": [
       "<Figure size 432x288 with 1 Axes>"
      ]
     },
     "metadata": {
      "needs_background": "light"
     },
     "output_type": "display_data"
    }
   ],
   "source": [
    "print(len(og_pred))\n",
    "mass_values = []\n",
    "energy_values = []\n",
    "for i in og_pred:\n",
    "        mass_values.append(i[1])#np.log10(i))\n",
    "        energy_values.append(i[0])#np.log10(i))\n",
    "\n",
    "fig1, ax1 = plt.subplots(1,1)\n",
    "ax1.hist(mass_values,bins=100)\n",
    "ax1.set_yscale('log')\n",
    "fig1, ax1 = plt.subplots(1,1)\n",
    "ax1.hist(energy_values,bins=100)\n",
    "ax1.set_yscale('log')"
   ]
  },
  {
   "cell_type": "code",
   "execution_count": 11,
   "metadata": {},
   "outputs": [],
   "source": [
    "#(G1r2_ystep[i]/(livetime*solid_angle*G1r2_effective_area*(10.**G1r2_logE[i]))) * G1r2_nevents[i])"
   ]
  },
  {
   "cell_type": "code",
   "execution_count": 12,
   "metadata": {},
   "outputs": [
    {
     "data": {
      "text/plain": [
       "['/Users/dork/Home/GithubRepo/Files/stepC_final_predX_OGall_data.pkl']"
      ]
     },
     "execution_count": 12,
     "metadata": {},
     "output_type": "execute_result"
    }
   ],
   "source": [
    "joblib.dump(og_pred,file_storage+'stepC_final_predX_OGall_data.pkl')\n"
   ]
  },
  {
   "cell_type": "code",
   "execution_count": null,
   "metadata": {},
   "outputs": [],
   "source": []
  },
  {
   "cell_type": "code",
   "execution_count": null,
   "metadata": {},
   "outputs": [],
   "source": []
  },
  {
   "cell_type": "code",
   "execution_count": 13,
   "metadata": {},
   "outputs": [],
   "source": [
    "G1_regr_multi_rf = joblib.load(file_storage+'stepB_final_rft_regressor_combo_stepA_3Dg1.pkl')"
   ]
  },
  {
   "cell_type": "code",
   "execution_count": 14,
   "metadata": {},
   "outputs": [],
   "source": [
    "g1_data = pickle.load( open( file_storage+\"stepA_3Dg1_2013_recoA1a.pkl\", \"rb\" ) )"
   ]
  },
  {
   "cell_type": "code",
   "execution_count": 16,
   "metadata": {},
   "outputs": [],
   "source": [
    "s125 = np.log10(g1_data['IT_mpeLLH_itSEEDParams_Log10_S125'])#.append(np.log10(g1_data['LaputopParams_s125']))\n",
    "beta = g1_data['IT_mpeLLH_itSEEDParams_Beta']#.append(g1_data['LaputopParams_beta'])\n",
    "zenith = g1_data['IT_mpeLLH_itSEED_coszen']#.append(g1_data['Laputop_coszen'])\n",
    "e_loss = g1_data['good_ElossReco_IT_mpeLLH_itSEEDStoch_Reco_EM_eloss_1500']#.append(g1_data['Stoch_Reco_eloss_1500'])\n",
    "n_he_stoc = g1_data['good_ElossReco_IT_mpeLLH_itSEEDStoch_Reco_EM_n_he_stoch']#.append(g1_data['Stoch_Reco_n_he_stoch'])\n",
    "n_he_stoc_hi = g1_data['good_ElossReco_IT_mpeLLH_itSEEDStoch_Reco2_EM_n_he_stoch']#.append(g1_data['Stoch_Reco2_n_he_stoch'])\n",
    "detector_output = list(zip(s125,beta,zenith,e_loss,n_he_stoc,n_he_stoc_hi))"
   ]
  },
  {
   "cell_type": "code",
   "execution_count": 17,
   "metadata": {},
   "outputs": [
    {
     "name": "stderr",
     "output_type": "stream",
     "text": [
      "[Parallel(n_jobs=6)]: Using backend ThreadingBackend with 6 concurrent workers.\n",
      "[Parallel(n_jobs=6)]: Done  38 tasks      | elapsed:    0.1s\n",
      "[Parallel(n_jobs=6)]: Done 188 tasks      | elapsed:    0.6s\n",
      "[Parallel(n_jobs=6)]: Done 438 tasks      | elapsed:    1.3s\n",
      "[Parallel(n_jobs=6)]: Done 500 out of 500 | elapsed:    1.5s finished\n"
     ]
    }
   ],
   "source": [
    "g1_pred = G1_regr_multi_rf.predict(detector_output)"
   ]
  },
  {
   "cell_type": "code",
   "execution_count": 18,
   "metadata": {},
   "outputs": [
    {
     "name": "stdout",
     "output_type": "stream",
     "text": [
      "75936\n"
     ]
    },
    {
     "data": {
      "image/png": "[encoded data removed]",
      "text/plain": [
       "<Figure size 432x288 with 1 Axes>"
      ]
     },
     "metadata": {
      "needs_background": "light"
     },
     "output_type": "display_data"
    },
    {
     "data": {
      "image/png": "[encoded data removed]",
      "text/plain": [
       "<Figure size 432x288 with 1 Axes>"
      ]
     },
     "metadata": {
      "needs_background": "light"
     },
     "output_type": "display_data"
    }
   ],
   "source": [
    "print(len(g1_pred))\n",
    "mass_values = []\n",
    "energy_values = []\n",
    "for i in g1_pred:\n",
    "        mass_values.append(i[1])#np.log10(i))\n",
    "        energy_values.append(i[0])#np.log10(i))\n",
    "\n",
    "fig1, ax1 = plt.subplots(1,1)\n",
    "ax1.hist(mass_values,bins=100)\n",
    "ax1.set_yscale('log')\n",
    "fig1, ax1 = plt.subplots(1,1)\n",
    "ax1.hist(energy_values,bins=100)\n",
    "ax1.set_yscale('log')"
   ]
  },
  {
   "cell_type": "code",
   "execution_count": 19,
   "metadata": {},
   "outputs": [
    {
     "data": {
      "text/plain": [
       "['/Users/dork/Home/GithubRepo/Files/stepC_final_predX_3Dg1_data.pkl']"
      ]
     },
     "execution_count": 19,
     "metadata": {},
     "output_type": "execute_result"
    }
   ],
   "source": [
    "joblib.dump(g1_pred,file_storage+'stepC_final_predX_3Dg1_data.pkl')\n"
   ]
  },
  {
   "cell_type": "code",
   "execution_count": null,
   "metadata": {},
   "outputs": [],
   "source": []
  },
  {
   "cell_type": "code",
   "execution_count": null,
   "metadata": {},
   "outputs": [],
   "source": []
  },
  {
   "cell_type": "code",
   "execution_count": null,
   "metadata": {},
   "outputs": [],
   "source": []
  },
  {
   "cell_type": "code",
   "execution_count": 20,
   "metadata": {},
   "outputs": [],
   "source": [
    "G2_regr_multi_rf = joblib.load(file_storage+'stepB_final_rft_regressor_combo_stepA_3Dg2.pkl')"
   ]
  },
  {
   "cell_type": "code",
   "execution_count": 21,
   "metadata": {},
   "outputs": [],
   "source": [
    "g2_data = pickle.load( open( file_storage+\"stepA_3Dg2_2013_recoA1a.pkl\", \"rb\" ) )"
   ]
  },
  {
   "cell_type": "code",
   "execution_count": 22,
   "metadata": {},
   "outputs": [],
   "source": [
    "s125 = np.log10(g2_data['II_speLLH_mpeSEEDParams_Log10_S125'])#.append(np.log10(g2_data['LaputopParams_s125']))\n",
    "beta = g2_data['II_speLLH_mpeSEEDParams_Beta']#.append(g2_data['LaputopParams_beta'])\n",
    "zenith = g2_data['II_speLLH_mpeSEED_coszen']#.append(g2_data['Laputop_coszen'])\n",
    "e_loss = g2_data['good_ElossReco_II_speLLH_mpeSEEDStoch_Reco_EM_eloss_1500']#.append(g2_data['Stoch_Reco_eloss_1500'])\n",
    "n_he_stoc = g2_data['good_ElossReco_II_speLLH_mpeSEEDStoch_Reco_EM_n_he_stoch']#.append(g2_data['Stoch_Reco_n_he_stoch'])\n",
    "n_he_stoc_hi = g2_data['good_ElossReco_II_speLLH_mpeSEEDStoch_Reco2_EM_n_he_stoch']#.append(g2_data['Stoch_Reco2_n_he_stoch'])\n",
    "detector_output = list(zip(s125,beta,zenith,e_loss,n_he_stoc,n_he_stoc_hi))"
   ]
  },
  {
   "cell_type": "code",
   "execution_count": 23,
   "metadata": {},
   "outputs": [
    {
     "name": "stderr",
     "output_type": "stream",
     "text": [
      "[Parallel(n_jobs=6)]: Using backend ThreadingBackend with 6 concurrent workers.\n",
      "[Parallel(n_jobs=6)]: Done  38 tasks      | elapsed:    0.1s\n",
      "[Parallel(n_jobs=6)]: Done 188 tasks      | elapsed:    0.3s\n",
      "[Parallel(n_jobs=6)]: Done 438 tasks      | elapsed:    0.8s\n",
      "[Parallel(n_jobs=6)]: Done 500 out of 500 | elapsed:    0.9s finished\n"
     ]
    }
   ],
   "source": [
    "g2_pred = G2_regr_multi_rf.predict(detector_output)"
   ]
  },
  {
   "cell_type": "code",
   "execution_count": 24,
   "metadata": {},
   "outputs": [
    {
     "name": "stdout",
     "output_type": "stream",
     "text": [
      "30522\n"
     ]
    },
    {
     "data": {
      "image/png": "[encoded data removed]",
      "text/plain": [
       "<Figure size 432x288 with 1 Axes>"
      ]
     },
     "metadata": {
      "needs_background": "light"
     },
     "output_type": "display_data"
    },
    {
     "data": {
      "image/png": "[encoded data removed]",
      "text/plain": [
       "<Figure size 432x288 with 1 Axes>"
      ]
     },
     "metadata": {
      "needs_background": "light"
     },
     "output_type": "display_data"
    }
   ],
   "source": [
    "print(len(g2_pred))\n",
    "mass_values = []\n",
    "energy_values = []\n",
    "for i in g2_pred:\n",
    "        mass_values.append(i[1])#np.log10(i))\n",
    "        energy_values.append(i[0])#np.log10(i))\n",
    "\n",
    "fig1, ax1 = plt.subplots(1,1)\n",
    "ax1.hist(mass_values,bins=100)\n",
    "ax1.set_yscale('log')\n",
    "fig1, ax1 = plt.subplots(1,1)\n",
    "ax1.hist(energy_values,bins=100)\n",
    "ax1.set_yscale('log')"
   ]
  },
  {
   "cell_type": "code",
   "execution_count": 25,
   "metadata": {},
   "outputs": [
    {
     "data": {
      "text/plain": [
       "['/Users/dork/Home/GithubRepo/Files/stepC_final_predX_3Dg2_data.pkl']"
      ]
     },
     "execution_count": 25,
     "metadata": {},
     "output_type": "execute_result"
    }
   ],
   "source": [
    "joblib.dump(g2_pred,file_storage+'stepC_final_predX_3Dg2_data.pkl')\n"
   ]
  },
  {
   "cell_type": "code",
   "execution_count": null,
   "metadata": {},
   "outputs": [],
   "source": []
  }
 ],
 "metadata": {
  "kernelspec": {
   "display_name": "Python 3",
   "language": "python",
   "name": "python3"
  },
  "language_info": {
   "codemirror_mode": {
    "name": "ipython",
    "version": 3
   },
   "file_extension": ".py",
   "mimetype": "text/x-python",
   "name": "python",
   "nbconvert_exporter": "python",
   "pygments_lexer": "ipython3",
   "version": "3.9.1"
  }
 },
 "nbformat": 4,
 "nbformat_minor": 2
}
