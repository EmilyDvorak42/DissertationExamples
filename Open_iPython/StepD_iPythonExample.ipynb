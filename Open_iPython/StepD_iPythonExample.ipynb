{
 "cells": [
  {
   "cell_type": "code",
   "execution_count": 1,
   "metadata": {},
   "outputs": [],
   "source": [
    "# Rename me from MassEnergyDataResults_PRETTY to StepD_iPythonExample\n",
    "workarea = \"/Users/dork/Home/GithubRepo/\"\n",
    "file_storage = workarea+\"Files/\""
   ]
  },
  {
   "cell_type": "code",
   "execution_count": 2,
   "metadata": {},
   "outputs": [],
   "source": [
    "import numpy as np\n",
    "import matplotlib\n",
    "import matplotlib.pyplot as plt\n",
    "from matplotlib.colors import LogNorm\n",
    "\n",
    "import pandas as pd\n",
    "from sklearn.ensemble import ExtraTreesRegressor, RandomForestRegressor\n",
    "from sklearn.multioutput import MultiOutputRegressor,MultiOutputClassifier\n",
    "from sklearn.model_selection import train_test_split\n",
    "import joblib\n",
    "from sklearn.preprocessing import StandardScaler\n",
    "\n",
    "from sklearn.metrics import r2_score\n",
    "from scipy.stats import pearsonr\n",
    "\n",
    "from sklearn import datasets\n",
    "from sklearn.model_selection  import GridSearchCV\n",
    "\n",
    "import tables\n",
    "import pylab as pl\n",
    "\n",
    "import math\n",
    "\n",
    "import pickle\n",
    "\n",
    "import EmilysTools\n",
    "from EmilysTools import effective_area, durationEmily, SolidAngle, Profiled, SolidAngle2, SrefConvert"
   ]
  },
  {
   "cell_type": "code",
   "execution_count": null,
   "metadata": {},
   "outputs": [],
   "source": []
  },
  {
   "cell_type": "code",
   "execution_count": null,
   "metadata": {},
   "outputs": [],
   "source": []
  },
  {
   "cell_type": "code",
   "execution_count": 4,
   "metadata": {},
   "outputs": [],
   "source": [
    "OG_pred = joblib.load(file_storage+'stepC_final_predX_OGall_data.pkl')"
   ]
  },
  {
   "cell_type": "code",
   "execution_count": 5,
   "metadata": {},
   "outputs": [],
   "source": [
    "#All_3D_pred = joblib.load('PklFiles/final_predX_ml_3Dall_data.pkl')\n",
    "G1_3D_pred = joblib.load(file_storage+'stepC_final_predX_3Dg1_data.pkl')\n",
    "G2_3D_pred = joblib.load(file_storage+'stepC_final_predX_3Dg2_data.pkl')"
   ]
  },
  {
   "cell_type": "code",
   "execution_count": null,
   "metadata": {},
   "outputs": [],
   "source": []
  },
  {
   "cell_type": "code",
   "execution_count": 6,
   "metadata": {},
   "outputs": [],
   "source": [
    "livetime = durationEmily()*0.1\n",
    "sold_angle = SolidAngle()\n",
    "sold_angle2 = SolidAngle2()"
   ]
  },
  {
   "cell_type": "code",
   "execution_count": 7,
   "metadata": {},
   "outputs": [],
   "source": [
    "binN=30"
   ]
  },
  {
   "cell_type": "code",
   "execution_count": null,
   "metadata": {},
   "outputs": [],
   "source": []
  },
  {
   "cell_type": "code",
   "execution_count": null,
   "metadata": {},
   "outputs": [],
   "source": []
  },
  {
   "cell_type": "code",
   "execution_count": null,
   "metadata": {},
   "outputs": [],
   "source": []
  },
  {
   "cell_type": "code",
   "execution_count": null,
   "metadata": {},
   "outputs": [],
   "source": []
  },
  {
   "cell_type": "code",
   "execution_count": 8,
   "metadata": {},
   "outputs": [],
   "source": [
    "# EXAMPLE\n",
    "OG_mass_values = []\n",
    "OG_energy_values = []\n",
    "for i in OG_pred:\n",
    "        OG_mass_values.append(i[1])#np.log10(i))\n",
    "        #OG_energy_values.append(np.log10(i[0]))\n",
    "        OG_energy_values.append(np.log10(i[0]))\n"
   ]
  },
  {
   "cell_type": "code",
   "execution_count": 9,
   "metadata": {},
   "outputs": [],
   "source": [
    "G1_3Dmass_values = []\n",
    "G1_3Denergy_values = []\n",
    "for i in G1_3D_pred:\n",
    "        G1_3Dmass_values.append(i[1])#np.log10(i))\n",
    "        G1_3Denergy_values.append(np.log10(i[0]))\n"
   ]
  },
  {
   "cell_type": "code",
   "execution_count": 10,
   "metadata": {},
   "outputs": [],
   "source": [
    "G2_3Dmass_values = []\n",
    "G2_3Denergy_values = []\n",
    "for i in G2_3D_pred:\n",
    "        G2_3Dmass_values.append(i[1])#np.log10(i))\n",
    "        G2_3Denergy_values.append(np.log10(i[0]))\n"
   ]
  },
  {
   "cell_type": "code",
   "execution_count": 11,
   "metadata": {},
   "outputs": [],
   "source": [
    "eng_bins = np.linspace(5,10,binN)\n"
   ]
  },
  {
   "cell_type": "code",
   "execution_count": 12,
   "metadata": {},
   "outputs": [],
   "source": [
    "#        eng_bins = np.linspace(5,10,binN)\n",
    "#        G1r2_ystep, G1r2_almost_xstep, crap = plt.hist(G1r2oX, eng_bins)"
   ]
  },
  {
   "cell_type": "code",
   "execution_count": 16,
   "metadata": {},
   "outputs": [
    {
     "data": {
      "image/png": "[encoded data removed]",
      "text/plain": [
       "<Figure size 432x288 with 1 Axes>"
      ]
     },
     "metadata": {
      "needs_background": "light"
     },
     "output_type": "display_data"
    }
   ],
   "source": [
    "fig1, ax1 = plt.subplots(1,1)\n",
    "og_yval, og_xval, crap = ax1.hist(OG_energy_values,eng_bins)#bins=binN,color=\"black\",alpha=0.2)\n",
    "g13D_yval, g13D_xval, crap =ax1.hist(G1_3Denergy_values,eng_bins)#bins=binN,color=\"green\",alpha=0.2)\n",
    "g23D_yval, g23D_xval, crap =ax1.hist(G2_3Denergy_values,eng_bins)#bins=binN,color=\"blue\",alpha=0.2)\n",
    "#ax1.legend(['OG','3D-All','3D-G1','3D-G2'],loc=1)\n",
    "ax1.legend(['OG','3D-G1','3D-G2'],loc=1)\n",
    "\n",
    "ax1.set_yscale('log')\n",
    "plt.ylabel(\"Relative Rate\",fontsize=10)\n",
    "plt.xlabel(\"log(Estimate Energy/[GeV])\",fontsize=10)\n",
    "\n",
    "plt.yticks(fontsize=10)\n",
    "plt.savefig(file_storage+'stepD_ml_EngResults')"
   ]
  },
  {
   "cell_type": "code",
   "execution_count": 17,
   "metadata": {},
   "outputs": [],
   "source": [
    "OG_N = len(OG_energy_values)\n",
    "G1_N = len(G1_3Denergy_values)\n",
    "G2_N = len(G2_3Denergy_values)\n",
    "\n",
    "G1_spect= []\n",
    "G1_x= []\n",
    "G2_spect= []\n",
    "G2_x= []\n",
    "OG_spect= []\n",
    "OG_x= []\n",
    "\n",
    "\n",
    "\n",
    "for i in np.arange(0,binN-1,1):\n",
    "    OG_effective_area = (effective_area(og_xval[i]))\n",
    "    OG_weighter = ((10.**og_xval[i])**1.7)/(livetime*sold_angle*OG_effective_area*np.log(10.)*(og_xval[i+1]-og_xval[i]))\n",
    "    OG_spect.append(og_yval[i]*OG_weighter/((10.**og_xval[i])**2.7))\n",
    "    OG_x.append((og_xval[i]+og_xval[i+1])/2.)\n",
    "\n",
    "    G1_effective_area = (effective_area(g13D_xval[i]))\n",
    "    G1_weighter = ((10.**g13D_xval[i])**1.7)/(livetime*sold_angle*G1_effective_area*np.log(10.)*(g13D_xval[i+1]-g13D_xval[i]))\n",
    "    G1_spect.append(g13D_yval[i]*G1_weighter/((10.**g13D_xval[i])**2.7))\n",
    "    G1_x.append((g13D_xval[i]+g13D_xval[i+1])/2.)\n",
    "\n",
    "    G2_effective_area = np.pi*(1000.**2.)-(effective_area(g23D_xval[i]))\n",
    "    G2_weighter = ((10.**g23D_xval[i])**1.7)/(livetime*sold_angle*G2_effective_area*np.log(10.)*(g23D_xval[i+1]-g23D_xval[i]))\n",
    "    G2_spect.append(g23D_yval[i]*G2_weighter/((10.**g23D_xval[i])**2.7))\n",
    "    G2_x.append((g23D_xval[i]+g23D_xval[i+1])/2.)\n",
    "\n",
    "\n"
   ]
  },
  {
   "cell_type": "code",
   "execution_count": 18,
   "metadata": {},
   "outputs": [
    {
     "data": {
      "image/png": "[encoded data removed]",
      "text/plain": [
       "<Figure size 720x576 with 1 Axes>"
      ]
     },
     "metadata": {
      "needs_background": "light"
     },
     "output_type": "display_data"
    }
   ],
   "source": [
    "fig1, ax1 = plt.subplots(1,1,figsize=(10, 8))\n",
    "ax1.step(OG_x,OG_spect,color='k',linewidth=3)\n",
    "ax1.step(G1_x,G1_spect,color='g',linewidth=3)\n",
    "ax1.step(G2_x,G2_spect,color='b',linewidth=3)\n",
    "\n",
    "ax1.legend(['IT-II only','3D-G1: 8p','3D-G2: 8p',],loc=1,fontsize=15)\n",
    "\n",
    "ax1.set_yscale('log')\n",
    "plt.ylabel(r\"$\\frac{dN}{dEd\\Omega dA dt}[\\frac{1.0}{GeV \\cdot s \\cdot m^{2}\\cdot sr}$]\",fontsize=20)\n",
    "#plt.ylabel(r\"$E^{2.7}\\frac{dN}{dEd\\Omega dA dt}[\\frac{GeV^{1.7}}{s \\cdot m^{2}\\cdot sr}$]\",fontsize=20)\n",
    "\n",
    "plt.xlabel(\"log(Estimate Energy/[GeV])\",fontsize=20)\n",
    "plt.grid(True,ls=\"-\")\n",
    "plt.yticks(fontsize=10)\n",
    "plt.ylim([10**-22,10**-11])\n",
    "#plt.ylim([10**2,10**5.1])\n",
    "plt.xlim([5.5,9.5])\n",
    "plt.savefig(file_storage+'stepD_ml_EngResults_DATA')\n"
   ]
  },
  {
   "cell_type": "code",
   "execution_count": 20,
   "metadata": {
    "scrolled": false
   },
   "outputs": [],
   "source": [
    "a_G2_3Dlnmass_values = []\n",
    "a_G2_3Denergy_values = []\n",
    "for i in G2_3D_pred:\n",
    "        a_G2_3Dlnmass_values.append(np.log(i[1]))\n",
    "        a_G2_3Denergy_values.append(np.log10(i[0]))\n",
    "\n",
    "a_G1_3Dlnmass_values = []\n",
    "a_G1_3Denergy_values = []\n",
    "for i in G1_3D_pred:\n",
    "        a_G1_3Dlnmass_values.append(np.log(i[1]))\n",
    "        a_G1_3Denergy_values.append(np.log10(i[0]))\n",
    "\n",
    "        \n",
    "a_OG_3Dlnmass_values = []\n",
    "a_OG_3Denergy_values = []\n",
    "for i in OG_pred:\n",
    "        a_OG_3Dlnmass_values.append(np.log(i[1]))\n",
    "        a_OG_3Denergy_values.append(np.log10(i[0]))"
   ]
  },
  {
   "cell_type": "code",
   "execution_count": 21,
   "metadata": {},
   "outputs": [
    {
     "name": "stderr",
     "output_type": "stream",
     "text": [
      "/usr/local/Cellar/jupyterlab/3.0.7/libexec/lib/python3.9/site-packages/numpy/core/fromnumeric.py:3419: RuntimeWarning: Mean of empty slice.\n",
      "  return _methods._mean(a, axis=axis, dtype=dtype,\n",
      "/usr/local/Cellar/jupyterlab/3.0.7/libexec/lib/python3.9/site-packages/numpy/core/_methods.py:188: RuntimeWarning: invalid value encountered in double_scalars\n",
      "  ret = ret.dtype.type(ret / rcount)\n",
      "/usr/local/Cellar/jupyterlab/3.0.7/libexec/lib/python3.9/site-packages/numpy/core/_methods.py:261: RuntimeWarning: Degrees of freedom <= 0 for slice\n",
      "  ret = _var(a, axis=axis, dtype=dtype, out=out, ddof=ddof,\n",
      "/usr/local/Cellar/jupyterlab/3.0.7/libexec/lib/python3.9/site-packages/numpy/core/_methods.py:221: RuntimeWarning: invalid value encountered in true_divide\n",
      "  arrmean = um.true_divide(arrmean, div, out=arrmean, casting='unsafe',\n",
      "/usr/local/Cellar/jupyterlab/3.0.7/libexec/lib/python3.9/site-packages/numpy/core/_methods.py:253: RuntimeWarning: invalid value encountered in double_scalars\n",
      "  ret = ret.dtype.type(ret / rcount)\n"
     ]
    }
   ],
   "source": [
    "Nbins = 20\n",
    "bins = np.linspace(6,10,Nbins)\n",
    "a_G1_x, a_G1_xer, a_G1_y,a_G1_yer = Profiled(bins,Nbins,a_G1_3Denergy_values,a_G1_3Dlnmass_values)\n",
    "a_G2_x, a_G2_xer, a_G2_y,a_G2_yer = Profiled(bins,Nbins,a_G2_3Denergy_values,a_G2_3Dlnmass_values)\n",
    "\n",
    "a_OG_x, a_OG_xer, a_OG_y,a_OG_yer = Profiled(bins,Nbins,a_OG_3Denergy_values,a_OG_3Dlnmass_values)"
   ]
  },
  {
   "cell_type": "code",
   "execution_count": 23,
   "metadata": {},
   "outputs": [
    {
     "data": {
      "image/png": "[encoded data removed]",
      "text/plain": [
       "<Figure size 432x288 with 1 Axes>"
      ]
     },
     "metadata": {
      "needs_background": "light"
     },
     "output_type": "display_data"
    }
   ],
   "source": [
    "fig1, ax1 = plt.subplots(1,1)\n",
    "plt.errorbar(a_G1_x, a_G1_y, xerr=a_G1_xer,yerr=a_G1_yer,linewidth=1.5, linestyle='--',capsize=5,fmt='y')\n",
    "#plt.errorbar(a_cG1_x, a_cG1_y, xerr=a_cG1_xer,yerr=a_cG1_yer,linewidth=1.5, linestyle='-',capsize=5,fmt='g')\n",
    "plt.errorbar(a_G2_x, a_G2_y, xerr=a_G2_xer,yerr=a_G2_yer,linewidth=1.5, linestyle='--',capsize=5,fmt='c')\n",
    "#plt.errorbar(a_cG2_x, a_cG2_y, xerr=a_cG2_xer,yerr=a_cG2_yer,linewidth=1.5, linestyle='-',capsize=5,fmt='b')\n",
    "plt.errorbar(a_OG_x, a_OG_y, xerr=a_OG_xer,yerr=a_OG_yer,linewidth=1.5, linestyle='-',capsize=5,fmt='k')\n",
    "\n",
    "ax1.legend(['3D-G1: 8p','3D-G2: 8p','IT-II only',],loc=4)\n",
    "\n",
    "#ax1.set_yscale('log')\n",
    "#plt.ylabel(r\"$\\frac{dN}{dEd\\Omega dA dt}[\\frac{1}{GeV\\cdot s \\cdot m^{2}\\cdot sr}$]\",fontsize=10)\n",
    "plt.ylabel(\"ln<A>\",fontsize=10)\n",
    "\n",
    "plt.xlabel(\"log(Estimate Energy/[GeV])\",fontsize=10)\n",
    "plt.grid(True,ls=\"-\")\n",
    "plt.yticks(fontsize=10)\n",
    "plt.savefig(file_storage+'stepD_ml_MassResults_DATA')"
   ]
  },
  {
   "cell_type": "code",
   "execution_count": null,
   "metadata": {},
   "outputs": [],
   "source": []
  },
  {
   "cell_type": "code",
   "execution_count": null,
   "metadata": {},
   "outputs": [],
   "source": []
  }
 ],
 "metadata": {
  "kernelspec": {
   "display_name": "Python 3",
   "language": "python",
   "name": "python3"
  },
  "language_info": {
   "codemirror_mode": {
    "name": "ipython",
    "version": 3
   },
   "file_extension": ".py",
   "mimetype": "text/x-python",
   "name": "python",
   "nbconvert_exporter": "python",
   "pygments_lexer": "ipython3",
   "version": "3.9.1"
  }
 },
 "nbformat": 4,
 "nbformat_minor": 2
}
